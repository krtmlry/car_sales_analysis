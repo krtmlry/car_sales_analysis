{
 "cells": [
  {
   "cell_type": "code",
   "execution_count": 4,
   "metadata": {},
   "outputs": [
    {
     "data": {
      "text/plain": [
       "True"
      ]
     },
     "execution_count": 4,
     "metadata": {},
     "output_type": "execute_result"
    }
   ],
   "source": [
    "import pandas as pd\n",
    "import duckdb as db\n",
    "import os\n",
    "from dotenv import load_dotenv\n",
    "load_dotenv()"
   ]
  },
  {
   "cell_type": "code",
   "execution_count": 5,
   "metadata": {},
   "outputs": [],
   "source": [
    "file = r\"C:\\Users\\USER\\Desktop\\car_sales_analysis\\dataset\\cars_database_raw.xlsx\""
   ]
  },
  {
   "cell_type": "code",
   "execution_count": 6,
   "metadata": {},
   "outputs": [
    {
     "data": {
      "text/plain": [
       "dict_keys(['Dealers', 'Models', 'Sales'])"
      ]
     },
     "execution_count": 6,
     "metadata": {},
     "output_type": "execute_result"
    }
   ],
   "source": [
    "sheets = pd.read_excel(file,sheet_name=None)\n",
    "sheets.keys()"
   ]
  },
  {
   "cell_type": "code",
   "execution_count": 7,
   "metadata": {},
   "outputs": [
    {
     "data": {
      "application/vnd.microsoft.datawrangler.viewer.v0+json": {
       "columns": [
        {
         "name": "index",
         "rawType": "int64",
         "type": "integer"
        },
        {
         "name": "DealerID",
         "rawType": "int64",
         "type": "integer"
        },
        {
         "name": "DealerName",
         "rawType": "object",
         "type": "string"
        },
        {
         "name": "City",
         "rawType": "object",
         "type": "string"
        },
        {
         "name": "Country",
         "rawType": "object",
         "type": "string"
        }
       ],
       "conversionMethod": "pd.DataFrame",
       "ref": "d102fce8-4ea0-4ead-baee-f61a53004dd7",
       "rows": [
        [
         "0",
         "1",
         "Speedster Motors",
         "Kuala Lumpur",
         "Malaysia"
        ],
        [
         "1",
         "2",
         "AutoHub Cars",
         "George Town",
         "Malaysia"
        ],
        [
         "2",
         "3",
         "Prime Autos",
         "Singapore",
         "Singapore"
        ],
        [
         "3",
         "4",
         "Metro Manila Motors",
         "Manila",
         "Philippines"
        ],
        [
         "4",
         "5",
         "Visayas Vehicles",
         "Cebu City",
         "Philippines"
        ],
        [
         "5",
         "6",
         "Mindanao Motors",
         "Davao City",
         "Philippines"
        ],
        [
         "6",
         "7",
         "Capital Cars",
         "Quezon City",
         "Philippines"
        ],
        [
         "7",
         "8",
         "Bacolod Wheels",
         "Bacolod City",
         "Philippines"
        ],
        [
         "8",
         "9",
         "Iloilo Car Center",
         "Iloilo City",
         "Philippines"
        ],
        [
         "9",
         "10",
         "Bangkok Cars",
         "Bangkok",
         "Thailand"
        ]
       ],
       "shape": {
        "columns": 4,
        "rows": 10
       }
      },
      "text/html": [
       "<div>\n",
       "<style scoped>\n",
       "    .dataframe tbody tr th:only-of-type {\n",
       "        vertical-align: middle;\n",
       "    }\n",
       "\n",
       "    .dataframe tbody tr th {\n",
       "        vertical-align: top;\n",
       "    }\n",
       "\n",
       "    .dataframe thead th {\n",
       "        text-align: right;\n",
       "    }\n",
       "</style>\n",
       "<table border=\"1\" class=\"dataframe\">\n",
       "  <thead>\n",
       "    <tr style=\"text-align: right;\">\n",
       "      <th></th>\n",
       "      <th>DealerID</th>\n",
       "      <th>DealerName</th>\n",
       "      <th>City</th>\n",
       "      <th>Country</th>\n",
       "    </tr>\n",
       "  </thead>\n",
       "  <tbody>\n",
       "    <tr>\n",
       "      <th>0</th>\n",
       "      <td>1</td>\n",
       "      <td>Speedster Motors</td>\n",
       "      <td>Kuala Lumpur</td>\n",
       "      <td>Malaysia</td>\n",
       "    </tr>\n",
       "    <tr>\n",
       "      <th>1</th>\n",
       "      <td>2</td>\n",
       "      <td>AutoHub Cars</td>\n",
       "      <td>George Town</td>\n",
       "      <td>Malaysia</td>\n",
       "    </tr>\n",
       "    <tr>\n",
       "      <th>2</th>\n",
       "      <td>3</td>\n",
       "      <td>Prime Autos</td>\n",
       "      <td>Singapore</td>\n",
       "      <td>Singapore</td>\n",
       "    </tr>\n",
       "    <tr>\n",
       "      <th>3</th>\n",
       "      <td>4</td>\n",
       "      <td>Metro Manila Motors</td>\n",
       "      <td>Manila</td>\n",
       "      <td>Philippines</td>\n",
       "    </tr>\n",
       "    <tr>\n",
       "      <th>4</th>\n",
       "      <td>5</td>\n",
       "      <td>Visayas Vehicles</td>\n",
       "      <td>Cebu City</td>\n",
       "      <td>Philippines</td>\n",
       "    </tr>\n",
       "    <tr>\n",
       "      <th>5</th>\n",
       "      <td>6</td>\n",
       "      <td>Mindanao Motors</td>\n",
       "      <td>Davao City</td>\n",
       "      <td>Philippines</td>\n",
       "    </tr>\n",
       "    <tr>\n",
       "      <th>6</th>\n",
       "      <td>7</td>\n",
       "      <td>Capital Cars</td>\n",
       "      <td>Quezon City</td>\n",
       "      <td>Philippines</td>\n",
       "    </tr>\n",
       "    <tr>\n",
       "      <th>7</th>\n",
       "      <td>8</td>\n",
       "      <td>Bacolod Wheels</td>\n",
       "      <td>Bacolod City</td>\n",
       "      <td>Philippines</td>\n",
       "    </tr>\n",
       "    <tr>\n",
       "      <th>8</th>\n",
       "      <td>9</td>\n",
       "      <td>Iloilo Car Center</td>\n",
       "      <td>Iloilo City</td>\n",
       "      <td>Philippines</td>\n",
       "    </tr>\n",
       "    <tr>\n",
       "      <th>9</th>\n",
       "      <td>10</td>\n",
       "      <td>Bangkok Cars</td>\n",
       "      <td>Bangkok</td>\n",
       "      <td>Thailand</td>\n",
       "    </tr>\n",
       "  </tbody>\n",
       "</table>\n",
       "</div>"
      ],
      "text/plain": [
       "   DealerID           DealerName          City      Country\n",
       "0         1     Speedster Motors  Kuala Lumpur     Malaysia\n",
       "1         2         AutoHub Cars   George Town     Malaysia\n",
       "2         3          Prime Autos     Singapore    Singapore\n",
       "3         4  Metro Manila Motors        Manila  Philippines\n",
       "4         5     Visayas Vehicles     Cebu City  Philippines\n",
       "5         6      Mindanao Motors    Davao City  Philippines\n",
       "6         7         Capital Cars   Quezon City  Philippines\n",
       "7         8       Bacolod Wheels  Bacolod City  Philippines\n",
       "8         9    Iloilo Car Center   Iloilo City  Philippines\n",
       "9        10         Bangkok Cars       Bangkok     Thailand"
      ]
     },
     "execution_count": 7,
     "metadata": {},
     "output_type": "execute_result"
    }
   ],
   "source": [
    "dealers_raw = sheets['Dealers']\n",
    "dealers_raw"
   ]
  },
  {
   "cell_type": "code",
   "execution_count": 8,
   "metadata": {},
   "outputs": [
    {
     "name": "stdout",
     "output_type": "stream",
     "text": [
      "<class 'pandas.core.frame.DataFrame'>\n",
      "RangeIndex: 10 entries, 0 to 9\n",
      "Data columns (total 4 columns):\n",
      " #   Column      Non-Null Count  Dtype \n",
      "---  ------      --------------  ----- \n",
      " 0   DealerID    10 non-null     int64 \n",
      " 1   DealerName  10 non-null     object\n",
      " 2   City        10 non-null     object\n",
      " 3   Country     10 non-null     object\n",
      "dtypes: int64(1), object(3)\n",
      "memory usage: 452.0+ bytes\n"
     ]
    }
   ],
   "source": [
    "dealers_raw.info()"
   ]
  },
  {
   "cell_type": "code",
   "execution_count": 9,
   "metadata": {},
   "outputs": [
    {
     "data": {
      "application/vnd.microsoft.datawrangler.viewer.v0+json": {
       "columns": [
        {
         "name": "index",
         "rawType": "int64",
         "type": "integer"
        },
        {
         "name": "dealer_id",
         "rawType": "int32",
         "type": "integer"
        },
        {
         "name": "dealer_name",
         "rawType": "object",
         "type": "string"
        },
        {
         "name": "city",
         "rawType": "object",
         "type": "string"
        },
        {
         "name": "country",
         "rawType": "object",
         "type": "string"
        }
       ],
       "conversionMethod": "pd.DataFrame",
       "ref": "250cece2-18f4-41cb-8ac5-cb8abbeadf4d",
       "rows": [
        [
         "0",
         "1",
         "Speedster Motors",
         "Kuala Lumpur",
         "Malaysia"
        ],
        [
         "1",
         "2",
         "AutoHub Cars",
         "George Town",
         "Malaysia"
        ],
        [
         "2",
         "3",
         "Prime Autos",
         "Singapore",
         "Singapore"
        ],
        [
         "3",
         "4",
         "Metro Manila Motors",
         "Manila",
         "Philippines"
        ],
        [
         "4",
         "5",
         "Visayas Vehicles",
         "Cebu City",
         "Philippines"
        ],
        [
         "5",
         "6",
         "Mindanao Motors",
         "Davao City",
         "Philippines"
        ],
        [
         "6",
         "7",
         "Capital Cars",
         "Quezon City",
         "Philippines"
        ],
        [
         "7",
         "8",
         "Bacolod Wheels",
         "Bacolod City",
         "Philippines"
        ],
        [
         "8",
         "9",
         "Iloilo Car Center",
         "Iloilo City",
         "Philippines"
        ],
        [
         "9",
         "10",
         "Bangkok Cars",
         "Bangkok",
         "Thailand"
        ]
       ],
       "shape": {
        "columns": 4,
        "rows": 10
       }
      },
      "text/html": [
       "<div>\n",
       "<style scoped>\n",
       "    .dataframe tbody tr th:only-of-type {\n",
       "        vertical-align: middle;\n",
       "    }\n",
       "\n",
       "    .dataframe tbody tr th {\n",
       "        vertical-align: top;\n",
       "    }\n",
       "\n",
       "    .dataframe thead th {\n",
       "        text-align: right;\n",
       "    }\n",
       "</style>\n",
       "<table border=\"1\" class=\"dataframe\">\n",
       "  <thead>\n",
       "    <tr style=\"text-align: right;\">\n",
       "      <th></th>\n",
       "      <th>dealer_id</th>\n",
       "      <th>dealer_name</th>\n",
       "      <th>city</th>\n",
       "      <th>country</th>\n",
       "    </tr>\n",
       "  </thead>\n",
       "  <tbody>\n",
       "    <tr>\n",
       "      <th>0</th>\n",
       "      <td>1</td>\n",
       "      <td>Speedster Motors</td>\n",
       "      <td>Kuala Lumpur</td>\n",
       "      <td>Malaysia</td>\n",
       "    </tr>\n",
       "    <tr>\n",
       "      <th>1</th>\n",
       "      <td>2</td>\n",
       "      <td>AutoHub Cars</td>\n",
       "      <td>George Town</td>\n",
       "      <td>Malaysia</td>\n",
       "    </tr>\n",
       "    <tr>\n",
       "      <th>2</th>\n",
       "      <td>3</td>\n",
       "      <td>Prime Autos</td>\n",
       "      <td>Singapore</td>\n",
       "      <td>Singapore</td>\n",
       "    </tr>\n",
       "    <tr>\n",
       "      <th>3</th>\n",
       "      <td>4</td>\n",
       "      <td>Metro Manila Motors</td>\n",
       "      <td>Manila</td>\n",
       "      <td>Philippines</td>\n",
       "    </tr>\n",
       "    <tr>\n",
       "      <th>4</th>\n",
       "      <td>5</td>\n",
       "      <td>Visayas Vehicles</td>\n",
       "      <td>Cebu City</td>\n",
       "      <td>Philippines</td>\n",
       "    </tr>\n",
       "    <tr>\n",
       "      <th>5</th>\n",
       "      <td>6</td>\n",
       "      <td>Mindanao Motors</td>\n",
       "      <td>Davao City</td>\n",
       "      <td>Philippines</td>\n",
       "    </tr>\n",
       "    <tr>\n",
       "      <th>6</th>\n",
       "      <td>7</td>\n",
       "      <td>Capital Cars</td>\n",
       "      <td>Quezon City</td>\n",
       "      <td>Philippines</td>\n",
       "    </tr>\n",
       "    <tr>\n",
       "      <th>7</th>\n",
       "      <td>8</td>\n",
       "      <td>Bacolod Wheels</td>\n",
       "      <td>Bacolod City</td>\n",
       "      <td>Philippines</td>\n",
       "    </tr>\n",
       "    <tr>\n",
       "      <th>8</th>\n",
       "      <td>9</td>\n",
       "      <td>Iloilo Car Center</td>\n",
       "      <td>Iloilo City</td>\n",
       "      <td>Philippines</td>\n",
       "    </tr>\n",
       "    <tr>\n",
       "      <th>9</th>\n",
       "      <td>10</td>\n",
       "      <td>Bangkok Cars</td>\n",
       "      <td>Bangkok</td>\n",
       "      <td>Thailand</td>\n",
       "    </tr>\n",
       "  </tbody>\n",
       "</table>\n",
       "</div>"
      ],
      "text/plain": [
       "   dealer_id          dealer_name          city      country\n",
       "0          1     Speedster Motors  Kuala Lumpur     Malaysia\n",
       "1          2         AutoHub Cars   George Town     Malaysia\n",
       "2          3          Prime Autos     Singapore    Singapore\n",
       "3          4  Metro Manila Motors        Manila  Philippines\n",
       "4          5     Visayas Vehicles     Cebu City  Philippines\n",
       "5          6      Mindanao Motors    Davao City  Philippines\n",
       "6          7         Capital Cars   Quezon City  Philippines\n",
       "7          8       Bacolod Wheels  Bacolod City  Philippines\n",
       "8          9    Iloilo Car Center   Iloilo City  Philippines\n",
       "9         10         Bangkok Cars       Bangkok     Thailand"
      ]
     },
     "execution_count": 9,
     "metadata": {},
     "output_type": "execute_result"
    }
   ],
   "source": [
    "dealers_clean = db.sql(\n",
    "    \"\"\"\n",
    "    select\n",
    "        DealerID::int as dealer_id,\n",
    "        trim(DealerName)::varchar as dealer_name,\n",
    "        trim(City)::varchar as city,\n",
    "        trim(Country)::varchar as country\n",
    "    from dealers_raw\n",
    "    \"\"\"\n",
    ").df()\n",
    "dealers_clean"
   ]
  },
  {
   "cell_type": "code",
   "execution_count": 10,
   "metadata": {},
   "outputs": [
    {
     "data": {
      "application/vnd.microsoft.datawrangler.viewer.v0+json": {
       "columns": [
        {
         "name": "index",
         "rawType": "int64",
         "type": "integer"
        },
        {
         "name": "ModelID",
         "rawType": "int64",
         "type": "integer"
        },
        {
         "name": "Brand",
         "rawType": "object",
         "type": "string"
        },
        {
         "name": "Model",
         "rawType": "object",
         "type": "string"
        },
        {
         "name": "Segment",
         "rawType": "object",
         "type": "string"
        },
        {
         "name": "EngineSize (L)",
         "rawType": "float64",
         "type": "float"
        },
        {
         "name": "Fuel",
         "rawType": "object",
         "type": "string"
        },
        {
         "name": "Price (USD)",
         "rawType": "int64",
         "type": "integer"
        },
        {
         "name": "Profit (USD)",
         "rawType": "int64",
         "type": "integer"
        }
       ],
       "conversionMethod": "pd.DataFrame",
       "ref": "1946a44e-8023-4f4d-a4b0-458010695727",
       "rows": [
        [
         "0",
         "1",
         "Subaru",
         "Impreza",
         "Sedan",
         "1.5",
         "Gasoline",
         "15000",
         "1500"
        ],
        [
         "1",
         "2",
         "Subaru",
         "Forester",
         "SUV",
         "1.8",
         "Gasoline",
         "20000",
         "2000"
        ],
        [
         "2",
         "3",
         " Honda      ",
         " Civic           ",
         " Sedan          ",
         "1.8",
         " Gasoline",
         "22000",
         "4400"
        ],
        [
         "3",
         "4",
         " Honda      ",
         " CR-V            ",
         " SUV            ",
         "2.4",
         " Gasoline",
         "28000",
         "2800"
        ],
        [
         "4",
         "5",
         " Ford       ",
         " Ranger          ",
         " Pickup         ",
         "2.0",
         " Diesel  ",
         "25000",
         "2500"
        ],
        [
         "5",
         "6",
         " Ford       ",
         " Everest         ",
         " SUV            ",
         "2.0",
         " Diesel  ",
         "30000",
         "3000"
        ],
        [
         "6",
         "14",
         "Land Rover",
         "Defender",
         "SUV",
         "1.8",
         "Gasoline",
         "14000",
         "1400"
        ],
        [
         "7",
         "15",
         "Land Rover",
         "Range Rover",
         "SUV",
         "3.0",
         "Gasoline",
         "26000",
         "2600"
        ],
        [
         "8",
         "9",
         " Mitsubishi ",
         " Xpander         ",
         " MPV            ",
         "1.5",
         " Gasoline",
         "18000",
         "1800"
        ],
        [
         "9",
         "10",
         " Mitsubishi ",
         " Outlander       ",
         " SUV            ",
         "2.4",
         " Gasoline",
         "32000",
         "3200"
        ],
        [
         "10",
         "11",
         " Hyundai    ",
         " Accent          ",
         " Sedan          ",
         "1.6",
         " Gasoline",
         "16000",
         "3200"
        ],
        [
         "11",
         "12",
         " Hyundai    ",
         " Santa Fe        ",
         " SUV            ",
         "2.4",
         " Gasoline",
         "34000",
         "3400"
        ],
        [
         "12",
         "1",
         "Toyota",
         "Vios",
         "Sedan",
         "1.5",
         "Gasoline",
         "12000",
         "1200"
        ],
        [
         "13",
         "2",
         "Toyota",
         "Corolla Cross",
         "SUV",
         "1.8",
         "Gasoline",
         "25000",
         "5000"
        ],
        [
         "14",
         "15",
         " Mazda      ",
         " Mazda3          ",
         " Sedan          ",
         "2.0",
         " Gasoline",
         "24000",
         "2400"
        ]
       ],
       "shape": {
        "columns": 8,
        "rows": 15
       }
      },
      "text/html": [
       "<div>\n",
       "<style scoped>\n",
       "    .dataframe tbody tr th:only-of-type {\n",
       "        vertical-align: middle;\n",
       "    }\n",
       "\n",
       "    .dataframe tbody tr th {\n",
       "        vertical-align: top;\n",
       "    }\n",
       "\n",
       "    .dataframe thead th {\n",
       "        text-align: right;\n",
       "    }\n",
       "</style>\n",
       "<table border=\"1\" class=\"dataframe\">\n",
       "  <thead>\n",
       "    <tr style=\"text-align: right;\">\n",
       "      <th></th>\n",
       "      <th>ModelID</th>\n",
       "      <th>Brand</th>\n",
       "      <th>Model</th>\n",
       "      <th>Segment</th>\n",
       "      <th>EngineSize (L)</th>\n",
       "      <th>Fuel</th>\n",
       "      <th>Price (USD)</th>\n",
       "      <th>Profit (USD)</th>\n",
       "    </tr>\n",
       "  </thead>\n",
       "  <tbody>\n",
       "    <tr>\n",
       "      <th>0</th>\n",
       "      <td>1</td>\n",
       "      <td>Subaru</td>\n",
       "      <td>Impreza</td>\n",
       "      <td>Sedan</td>\n",
       "      <td>1.5</td>\n",
       "      <td>Gasoline</td>\n",
       "      <td>15000</td>\n",
       "      <td>1500</td>\n",
       "    </tr>\n",
       "    <tr>\n",
       "      <th>1</th>\n",
       "      <td>2</td>\n",
       "      <td>Subaru</td>\n",
       "      <td>Forester</td>\n",
       "      <td>SUV</td>\n",
       "      <td>1.8</td>\n",
       "      <td>Gasoline</td>\n",
       "      <td>20000</td>\n",
       "      <td>2000</td>\n",
       "    </tr>\n",
       "    <tr>\n",
       "      <th>2</th>\n",
       "      <td>3</td>\n",
       "      <td>Honda</td>\n",
       "      <td>Civic</td>\n",
       "      <td>Sedan</td>\n",
       "      <td>1.8</td>\n",
       "      <td>Gasoline</td>\n",
       "      <td>22000</td>\n",
       "      <td>4400</td>\n",
       "    </tr>\n",
       "    <tr>\n",
       "      <th>3</th>\n",
       "      <td>4</td>\n",
       "      <td>Honda</td>\n",
       "      <td>CR-V</td>\n",
       "      <td>SUV</td>\n",
       "      <td>2.4</td>\n",
       "      <td>Gasoline</td>\n",
       "      <td>28000</td>\n",
       "      <td>2800</td>\n",
       "    </tr>\n",
       "    <tr>\n",
       "      <th>4</th>\n",
       "      <td>5</td>\n",
       "      <td>Ford</td>\n",
       "      <td>Ranger</td>\n",
       "      <td>Pickup</td>\n",
       "      <td>2.0</td>\n",
       "      <td>Diesel</td>\n",
       "      <td>25000</td>\n",
       "      <td>2500</td>\n",
       "    </tr>\n",
       "    <tr>\n",
       "      <th>5</th>\n",
       "      <td>6</td>\n",
       "      <td>Ford</td>\n",
       "      <td>Everest</td>\n",
       "      <td>SUV</td>\n",
       "      <td>2.0</td>\n",
       "      <td>Diesel</td>\n",
       "      <td>30000</td>\n",
       "      <td>3000</td>\n",
       "    </tr>\n",
       "    <tr>\n",
       "      <th>6</th>\n",
       "      <td>14</td>\n",
       "      <td>Land Rover</td>\n",
       "      <td>Defender</td>\n",
       "      <td>SUV</td>\n",
       "      <td>1.8</td>\n",
       "      <td>Gasoline</td>\n",
       "      <td>14000</td>\n",
       "      <td>1400</td>\n",
       "    </tr>\n",
       "    <tr>\n",
       "      <th>7</th>\n",
       "      <td>15</td>\n",
       "      <td>Land Rover</td>\n",
       "      <td>Range Rover</td>\n",
       "      <td>SUV</td>\n",
       "      <td>3.0</td>\n",
       "      <td>Gasoline</td>\n",
       "      <td>26000</td>\n",
       "      <td>2600</td>\n",
       "    </tr>\n",
       "    <tr>\n",
       "      <th>8</th>\n",
       "      <td>9</td>\n",
       "      <td>Mitsubishi</td>\n",
       "      <td>Xpander</td>\n",
       "      <td>MPV</td>\n",
       "      <td>1.5</td>\n",
       "      <td>Gasoline</td>\n",
       "      <td>18000</td>\n",
       "      <td>1800</td>\n",
       "    </tr>\n",
       "    <tr>\n",
       "      <th>9</th>\n",
       "      <td>10</td>\n",
       "      <td>Mitsubishi</td>\n",
       "      <td>Outlander</td>\n",
       "      <td>SUV</td>\n",
       "      <td>2.4</td>\n",
       "      <td>Gasoline</td>\n",
       "      <td>32000</td>\n",
       "      <td>3200</td>\n",
       "    </tr>\n",
       "    <tr>\n",
       "      <th>10</th>\n",
       "      <td>11</td>\n",
       "      <td>Hyundai</td>\n",
       "      <td>Accent</td>\n",
       "      <td>Sedan</td>\n",
       "      <td>1.6</td>\n",
       "      <td>Gasoline</td>\n",
       "      <td>16000</td>\n",
       "      <td>3200</td>\n",
       "    </tr>\n",
       "    <tr>\n",
       "      <th>11</th>\n",
       "      <td>12</td>\n",
       "      <td>Hyundai</td>\n",
       "      <td>Santa Fe</td>\n",
       "      <td>SUV</td>\n",
       "      <td>2.4</td>\n",
       "      <td>Gasoline</td>\n",
       "      <td>34000</td>\n",
       "      <td>3400</td>\n",
       "    </tr>\n",
       "    <tr>\n",
       "      <th>12</th>\n",
       "      <td>1</td>\n",
       "      <td>Toyota</td>\n",
       "      <td>Vios</td>\n",
       "      <td>Sedan</td>\n",
       "      <td>1.5</td>\n",
       "      <td>Gasoline</td>\n",
       "      <td>12000</td>\n",
       "      <td>1200</td>\n",
       "    </tr>\n",
       "    <tr>\n",
       "      <th>13</th>\n",
       "      <td>2</td>\n",
       "      <td>Toyota</td>\n",
       "      <td>Corolla Cross</td>\n",
       "      <td>SUV</td>\n",
       "      <td>1.8</td>\n",
       "      <td>Gasoline</td>\n",
       "      <td>25000</td>\n",
       "      <td>5000</td>\n",
       "    </tr>\n",
       "    <tr>\n",
       "      <th>14</th>\n",
       "      <td>15</td>\n",
       "      <td>Mazda</td>\n",
       "      <td>Mazda3</td>\n",
       "      <td>Sedan</td>\n",
       "      <td>2.0</td>\n",
       "      <td>Gasoline</td>\n",
       "      <td>24000</td>\n",
       "      <td>2400</td>\n",
       "    </tr>\n",
       "  </tbody>\n",
       "</table>\n",
       "</div>"
      ],
      "text/plain": [
       "    ModelID         Brand              Model           Segment  \\\n",
       "0         1        Subaru            Impreza             Sedan   \n",
       "1         2        Subaru           Forester               SUV   \n",
       "2         3   Honda         Civic              Sedan             \n",
       "3         4   Honda         CR-V               SUV               \n",
       "4         5   Ford          Ranger             Pickup            \n",
       "5         6   Ford          Everest            SUV               \n",
       "6        14    Land Rover           Defender               SUV   \n",
       "7        15    Land Rover        Range Rover               SUV   \n",
       "8         9   Mitsubishi    Xpander            MPV               \n",
       "9        10   Mitsubishi    Outlander          SUV               \n",
       "10       11   Hyundai       Accent             Sedan             \n",
       "11       12   Hyundai       Santa Fe           SUV               \n",
       "12        1        Toyota               Vios             Sedan   \n",
       "13        2        Toyota      Corolla Cross               SUV   \n",
       "14       15   Mazda         Mazda3             Sedan             \n",
       "\n",
       "    EngineSize (L)       Fuel  Price (USD)  Profit (USD)  \n",
       "0              1.5   Gasoline        15000          1500  \n",
       "1              1.8   Gasoline        20000          2000  \n",
       "2              1.8   Gasoline        22000          4400  \n",
       "3              2.4   Gasoline        28000          2800  \n",
       "4              2.0   Diesel          25000          2500  \n",
       "5              2.0   Diesel          30000          3000  \n",
       "6              1.8   Gasoline        14000          1400  \n",
       "7              3.0   Gasoline        26000          2600  \n",
       "8              1.5   Gasoline        18000          1800  \n",
       "9              2.4   Gasoline        32000          3200  \n",
       "10             1.6   Gasoline        16000          3200  \n",
       "11             2.4   Gasoline        34000          3400  \n",
       "12             1.5   Gasoline        12000          1200  \n",
       "13             1.8   Gasoline        25000          5000  \n",
       "14             2.0   Gasoline        24000          2400  "
      ]
     },
     "execution_count": 10,
     "metadata": {},
     "output_type": "execute_result"
    }
   ],
   "source": [
    "models_raw = sheets['Models']\n",
    "models_raw"
   ]
  },
  {
   "cell_type": "code",
   "execution_count": 11,
   "metadata": {},
   "outputs": [
    {
     "name": "stdout",
     "output_type": "stream",
     "text": [
      "<class 'pandas.core.frame.DataFrame'>\n",
      "RangeIndex: 15 entries, 0 to 14\n",
      "Data columns (total 8 columns):\n",
      " #   Column          Non-Null Count  Dtype  \n",
      "---  ------          --------------  -----  \n",
      " 0   ModelID         15 non-null     int64  \n",
      " 1   Brand           15 non-null     object \n",
      " 2   Model           15 non-null     object \n",
      " 3   Segment         15 non-null     object \n",
      " 4   EngineSize (L)  15 non-null     float64\n",
      " 5   Fuel            15 non-null     object \n",
      " 6   Price (USD)     15 non-null     int64  \n",
      " 7   Profit (USD)    15 non-null     int64  \n",
      "dtypes: float64(1), int64(3), object(4)\n",
      "memory usage: 1.1+ KB\n"
     ]
    }
   ],
   "source": [
    "models_raw.info()"
   ]
  },
  {
   "cell_type": "code",
   "execution_count": 12,
   "metadata": {},
   "outputs": [],
   "source": [
    "models_clean = db.sql(\n",
    "    \"\"\"\n",
    "    select\n",
    "        row_number() over() as model_id,\n",
    "        trim(Model) as model,\n",
    "        trim(Brand) as brand,\n",
    "        trim(Segment) as segment,\n",
    "        \"EngineSize (L)\"::numeric as engine_size_l,\n",
    "        trim(Fuel) as fuel_type,\n",
    "        \"Price (USD)\"::numeric as unit_price_usd,\n",
    "        \"Profit (USD)\"::numeric as unit_profit_usd\n",
    "    from(\n",
    "        select distinct(*)\n",
    "        from models_raw\n",
    "        order by Brand asc\n",
    "    )\n",
    "    order by model_id asc\n",
    "    \"\"\"\n",
    ").df()"
   ]
  },
  {
   "cell_type": "code",
   "execution_count": 13,
   "metadata": {},
   "outputs": [
    {
     "data": {
      "application/vnd.microsoft.datawrangler.viewer.v0+json": {
       "columns": [
        {
         "name": "index",
         "rawType": "int64",
         "type": "integer"
        },
        {
         "name": "model_id",
         "rawType": "int64",
         "type": "integer"
        },
        {
         "name": "model",
         "rawType": "object",
         "type": "string"
        },
        {
         "name": "brand",
         "rawType": "object",
         "type": "string"
        },
        {
         "name": "segment",
         "rawType": "object",
         "type": "string"
        },
        {
         "name": "engine_size_l",
         "rawType": "float64",
         "type": "float"
        },
        {
         "name": "fuel_type",
         "rawType": "object",
         "type": "string"
        },
        {
         "name": "unit_price_usd",
         "rawType": "float64",
         "type": "float"
        },
        {
         "name": "unit_profit_usd",
         "rawType": "float64",
         "type": "float"
        }
       ],
       "conversionMethod": "pd.DataFrame",
       "ref": "65b8ce06-5059-4f58-9408-5e7a7a536724",
       "rows": [
        [
         "0",
         "1",
         "Ranger",
         "Ford",
         "Pickup",
         "2.0",
         "Diesel",
         "25000.0",
         "2500.0"
        ],
        [
         "1",
         "2",
         "Everest",
         "Ford",
         "SUV",
         "2.0",
         "Diesel",
         "30000.0",
         "3000.0"
        ],
        [
         "2",
         "3",
         "CR-V",
         "Honda",
         "SUV",
         "2.4",
         "Gasoline",
         "28000.0",
         "2800.0"
        ],
        [
         "3",
         "4",
         "Civic",
         "Honda",
         "Sedan",
         "1.8",
         "Gasoline",
         "22000.0",
         "4400.0"
        ],
        [
         "4",
         "5",
         "Santa Fe",
         "Hyundai",
         "SUV",
         "2.4",
         "Gasoline",
         "34000.0",
         "3400.0"
        ],
        [
         "5",
         "6",
         "Accent",
         "Hyundai",
         "Sedan",
         "1.6",
         "Gasoline",
         "16000.0",
         "3200.0"
        ],
        [
         "6",
         "7",
         "Mazda3",
         "Mazda",
         "Sedan",
         "2.0",
         "Gasoline",
         "24000.0",
         "2400.0"
        ],
        [
         "7",
         "8",
         "Xpander",
         "Mitsubishi",
         "MPV",
         "1.5",
         "Gasoline",
         "18000.0",
         "1800.0"
        ],
        [
         "8",
         "9",
         "Outlander",
         "Mitsubishi",
         "SUV",
         "2.4",
         "Gasoline",
         "32000.0",
         "3200.0"
        ],
        [
         "9",
         "10",
         "Defender",
         "Land Rover",
         "SUV",
         "1.8",
         "Gasoline",
         "14000.0",
         "1400.0"
        ],
        [
         "10",
         "11",
         "Range Rover",
         "Land Rover",
         "SUV",
         "3.0",
         "Gasoline",
         "26000.0",
         "2600.0"
        ],
        [
         "11",
         "12",
         "Impreza",
         "Subaru",
         "Sedan",
         "1.5",
         "Gasoline",
         "15000.0",
         "1500.0"
        ],
        [
         "12",
         "13",
         "Forester",
         "Subaru",
         "SUV",
         "1.8",
         "Gasoline",
         "20000.0",
         "2000.0"
        ],
        [
         "13",
         "14",
         "Corolla Cross",
         "Toyota",
         "SUV",
         "1.8",
         "Gasoline",
         "25000.0",
         "5000.0"
        ],
        [
         "14",
         "15",
         "Vios",
         "Toyota",
         "Sedan",
         "1.5",
         "Gasoline",
         "12000.0",
         "1200.0"
        ]
       ],
       "shape": {
        "columns": 8,
        "rows": 15
       }
      },
      "text/html": [
       "<div>\n",
       "<style scoped>\n",
       "    .dataframe tbody tr th:only-of-type {\n",
       "        vertical-align: middle;\n",
       "    }\n",
       "\n",
       "    .dataframe tbody tr th {\n",
       "        vertical-align: top;\n",
       "    }\n",
       "\n",
       "    .dataframe thead th {\n",
       "        text-align: right;\n",
       "    }\n",
       "</style>\n",
       "<table border=\"1\" class=\"dataframe\">\n",
       "  <thead>\n",
       "    <tr style=\"text-align: right;\">\n",
       "      <th></th>\n",
       "      <th>model_id</th>\n",
       "      <th>model</th>\n",
       "      <th>brand</th>\n",
       "      <th>segment</th>\n",
       "      <th>engine_size_l</th>\n",
       "      <th>fuel_type</th>\n",
       "      <th>unit_price_usd</th>\n",
       "      <th>unit_profit_usd</th>\n",
       "    </tr>\n",
       "  </thead>\n",
       "  <tbody>\n",
       "    <tr>\n",
       "      <th>0</th>\n",
       "      <td>1</td>\n",
       "      <td>Ranger</td>\n",
       "      <td>Ford</td>\n",
       "      <td>Pickup</td>\n",
       "      <td>2.0</td>\n",
       "      <td>Diesel</td>\n",
       "      <td>25000.0</td>\n",
       "      <td>2500.0</td>\n",
       "    </tr>\n",
       "    <tr>\n",
       "      <th>1</th>\n",
       "      <td>2</td>\n",
       "      <td>Everest</td>\n",
       "      <td>Ford</td>\n",
       "      <td>SUV</td>\n",
       "      <td>2.0</td>\n",
       "      <td>Diesel</td>\n",
       "      <td>30000.0</td>\n",
       "      <td>3000.0</td>\n",
       "    </tr>\n",
       "    <tr>\n",
       "      <th>2</th>\n",
       "      <td>3</td>\n",
       "      <td>CR-V</td>\n",
       "      <td>Honda</td>\n",
       "      <td>SUV</td>\n",
       "      <td>2.4</td>\n",
       "      <td>Gasoline</td>\n",
       "      <td>28000.0</td>\n",
       "      <td>2800.0</td>\n",
       "    </tr>\n",
       "    <tr>\n",
       "      <th>3</th>\n",
       "      <td>4</td>\n",
       "      <td>Civic</td>\n",
       "      <td>Honda</td>\n",
       "      <td>Sedan</td>\n",
       "      <td>1.8</td>\n",
       "      <td>Gasoline</td>\n",
       "      <td>22000.0</td>\n",
       "      <td>4400.0</td>\n",
       "    </tr>\n",
       "    <tr>\n",
       "      <th>4</th>\n",
       "      <td>5</td>\n",
       "      <td>Santa Fe</td>\n",
       "      <td>Hyundai</td>\n",
       "      <td>SUV</td>\n",
       "      <td>2.4</td>\n",
       "      <td>Gasoline</td>\n",
       "      <td>34000.0</td>\n",
       "      <td>3400.0</td>\n",
       "    </tr>\n",
       "    <tr>\n",
       "      <th>5</th>\n",
       "      <td>6</td>\n",
       "      <td>Accent</td>\n",
       "      <td>Hyundai</td>\n",
       "      <td>Sedan</td>\n",
       "      <td>1.6</td>\n",
       "      <td>Gasoline</td>\n",
       "      <td>16000.0</td>\n",
       "      <td>3200.0</td>\n",
       "    </tr>\n",
       "    <tr>\n",
       "      <th>6</th>\n",
       "      <td>7</td>\n",
       "      <td>Mazda3</td>\n",
       "      <td>Mazda</td>\n",
       "      <td>Sedan</td>\n",
       "      <td>2.0</td>\n",
       "      <td>Gasoline</td>\n",
       "      <td>24000.0</td>\n",
       "      <td>2400.0</td>\n",
       "    </tr>\n",
       "    <tr>\n",
       "      <th>7</th>\n",
       "      <td>8</td>\n",
       "      <td>Xpander</td>\n",
       "      <td>Mitsubishi</td>\n",
       "      <td>MPV</td>\n",
       "      <td>1.5</td>\n",
       "      <td>Gasoline</td>\n",
       "      <td>18000.0</td>\n",
       "      <td>1800.0</td>\n",
       "    </tr>\n",
       "    <tr>\n",
       "      <th>8</th>\n",
       "      <td>9</td>\n",
       "      <td>Outlander</td>\n",
       "      <td>Mitsubishi</td>\n",
       "      <td>SUV</td>\n",
       "      <td>2.4</td>\n",
       "      <td>Gasoline</td>\n",
       "      <td>32000.0</td>\n",
       "      <td>3200.0</td>\n",
       "    </tr>\n",
       "    <tr>\n",
       "      <th>9</th>\n",
       "      <td>10</td>\n",
       "      <td>Defender</td>\n",
       "      <td>Land Rover</td>\n",
       "      <td>SUV</td>\n",
       "      <td>1.8</td>\n",
       "      <td>Gasoline</td>\n",
       "      <td>14000.0</td>\n",
       "      <td>1400.0</td>\n",
       "    </tr>\n",
       "    <tr>\n",
       "      <th>10</th>\n",
       "      <td>11</td>\n",
       "      <td>Range Rover</td>\n",
       "      <td>Land Rover</td>\n",
       "      <td>SUV</td>\n",
       "      <td>3.0</td>\n",
       "      <td>Gasoline</td>\n",
       "      <td>26000.0</td>\n",
       "      <td>2600.0</td>\n",
       "    </tr>\n",
       "    <tr>\n",
       "      <th>11</th>\n",
       "      <td>12</td>\n",
       "      <td>Impreza</td>\n",
       "      <td>Subaru</td>\n",
       "      <td>Sedan</td>\n",
       "      <td>1.5</td>\n",
       "      <td>Gasoline</td>\n",
       "      <td>15000.0</td>\n",
       "      <td>1500.0</td>\n",
       "    </tr>\n",
       "    <tr>\n",
       "      <th>12</th>\n",
       "      <td>13</td>\n",
       "      <td>Forester</td>\n",
       "      <td>Subaru</td>\n",
       "      <td>SUV</td>\n",
       "      <td>1.8</td>\n",
       "      <td>Gasoline</td>\n",
       "      <td>20000.0</td>\n",
       "      <td>2000.0</td>\n",
       "    </tr>\n",
       "    <tr>\n",
       "      <th>13</th>\n",
       "      <td>14</td>\n",
       "      <td>Corolla Cross</td>\n",
       "      <td>Toyota</td>\n",
       "      <td>SUV</td>\n",
       "      <td>1.8</td>\n",
       "      <td>Gasoline</td>\n",
       "      <td>25000.0</td>\n",
       "      <td>5000.0</td>\n",
       "    </tr>\n",
       "    <tr>\n",
       "      <th>14</th>\n",
       "      <td>15</td>\n",
       "      <td>Vios</td>\n",
       "      <td>Toyota</td>\n",
       "      <td>Sedan</td>\n",
       "      <td>1.5</td>\n",
       "      <td>Gasoline</td>\n",
       "      <td>12000.0</td>\n",
       "      <td>1200.0</td>\n",
       "    </tr>\n",
       "  </tbody>\n",
       "</table>\n",
       "</div>"
      ],
      "text/plain": [
       "    model_id          model       brand segment  engine_size_l fuel_type  \\\n",
       "0          1         Ranger        Ford  Pickup            2.0    Diesel   \n",
       "1          2        Everest        Ford     SUV            2.0    Diesel   \n",
       "2          3           CR-V       Honda     SUV            2.4  Gasoline   \n",
       "3          4          Civic       Honda   Sedan            1.8  Gasoline   \n",
       "4          5       Santa Fe     Hyundai     SUV            2.4  Gasoline   \n",
       "5          6         Accent     Hyundai   Sedan            1.6  Gasoline   \n",
       "6          7         Mazda3       Mazda   Sedan            2.0  Gasoline   \n",
       "7          8        Xpander  Mitsubishi     MPV            1.5  Gasoline   \n",
       "8          9      Outlander  Mitsubishi     SUV            2.4  Gasoline   \n",
       "9         10       Defender  Land Rover     SUV            1.8  Gasoline   \n",
       "10        11    Range Rover  Land Rover     SUV            3.0  Gasoline   \n",
       "11        12        Impreza      Subaru   Sedan            1.5  Gasoline   \n",
       "12        13       Forester      Subaru     SUV            1.8  Gasoline   \n",
       "13        14  Corolla Cross      Toyota     SUV            1.8  Gasoline   \n",
       "14        15           Vios      Toyota   Sedan            1.5  Gasoline   \n",
       "\n",
       "    unit_price_usd  unit_profit_usd  \n",
       "0          25000.0           2500.0  \n",
       "1          30000.0           3000.0  \n",
       "2          28000.0           2800.0  \n",
       "3          22000.0           4400.0  \n",
       "4          34000.0           3400.0  \n",
       "5          16000.0           3200.0  \n",
       "6          24000.0           2400.0  \n",
       "7          18000.0           1800.0  \n",
       "8          32000.0           3200.0  \n",
       "9          14000.0           1400.0  \n",
       "10         26000.0           2600.0  \n",
       "11         15000.0           1500.0  \n",
       "12         20000.0           2000.0  \n",
       "13         25000.0           5000.0  \n",
       "14         12000.0           1200.0  "
      ]
     },
     "execution_count": 13,
     "metadata": {},
     "output_type": "execute_result"
    }
   ],
   "source": [
    "models_clean"
   ]
  },
  {
   "cell_type": "code",
   "execution_count": 14,
   "metadata": {},
   "outputs": [
    {
     "name": "stdout",
     "output_type": "stream",
     "text": [
      "<class 'pandas.core.frame.DataFrame'>\n",
      "RangeIndex: 15 entries, 0 to 14\n",
      "Data columns (total 8 columns):\n",
      " #   Column           Non-Null Count  Dtype  \n",
      "---  ------           --------------  -----  \n",
      " 0   model_id         15 non-null     int64  \n",
      " 1   model            15 non-null     object \n",
      " 2   brand            15 non-null     object \n",
      " 3   segment          15 non-null     object \n",
      " 4   engine_size_l    15 non-null     float64\n",
      " 5   fuel_type        15 non-null     object \n",
      " 6   unit_price_usd   15 non-null     float64\n",
      " 7   unit_profit_usd  15 non-null     float64\n",
      "dtypes: float64(3), int64(1), object(4)\n",
      "memory usage: 1.1+ KB\n"
     ]
    }
   ],
   "source": [
    "models_clean.info()"
   ]
  },
  {
   "cell_type": "code",
   "execution_count": 15,
   "metadata": {},
   "outputs": [
    {
     "data": {
      "application/vnd.microsoft.datawrangler.viewer.v0+json": {
       "columns": [
        {
         "name": "index",
         "rawType": "int64",
         "type": "integer"
        },
        {
         "name": "SaleID",
         "rawType": "int64",
         "type": "integer"
        },
        {
         "name": "Date",
         "rawType": "datetime64[ns]",
         "type": "datetime"
        },
        {
         "name": "DealerID",
         "rawType": "int64",
         "type": "integer"
        },
        {
         "name": "ModelID",
         "rawType": "int64",
         "type": "integer"
        },
        {
         "name": "Quantity",
         "rawType": "int64",
         "type": "integer"
        },
        {
         "name": "TotalPrice",
         "rawType": "int64",
         "type": "integer"
        },
        {
         "name": "Total Profit",
         "rawType": "int64",
         "type": "integer"
        }
       ],
       "conversionMethod": "pd.DataFrame",
       "ref": "ac4e87a2-ba95-4ca7-9a1b-8a64812295da",
       "rows": [
        [
         "0",
         "1",
         "2024-01-05 00:00:00",
         "10",
         "13",
         "1",
         "25000",
         "2500"
        ],
        [
         "1",
         "2",
         "2024-01-08 00:00:00",
         "3",
         "5",
         "1",
         "28000",
         "2800"
        ],
        [
         "2",
         "3",
         "2024-02-12 00:00:00",
         "8",
         "2",
         "2",
         "28000",
         "2800"
        ],
        [
         "3",
         "4",
         "2024-02-22 00:00:00",
         "9",
         "8",
         "1",
         "20000",
         "2000"
        ],
        [
         "4",
         "5",
         "2024-03-01 00:00:00",
         "7",
         "4",
         "3",
         "96000",
         "9600"
        ]
       ],
       "shape": {
        "columns": 7,
        "rows": 5
       }
      },
      "text/html": [
       "<div>\n",
       "<style scoped>\n",
       "    .dataframe tbody tr th:only-of-type {\n",
       "        vertical-align: middle;\n",
       "    }\n",
       "\n",
       "    .dataframe tbody tr th {\n",
       "        vertical-align: top;\n",
       "    }\n",
       "\n",
       "    .dataframe thead th {\n",
       "        text-align: right;\n",
       "    }\n",
       "</style>\n",
       "<table border=\"1\" class=\"dataframe\">\n",
       "  <thead>\n",
       "    <tr style=\"text-align: right;\">\n",
       "      <th></th>\n",
       "      <th>SaleID</th>\n",
       "      <th>Date</th>\n",
       "      <th>DealerID</th>\n",
       "      <th>ModelID</th>\n",
       "      <th>Quantity</th>\n",
       "      <th>TotalPrice</th>\n",
       "      <th>Total Profit</th>\n",
       "    </tr>\n",
       "  </thead>\n",
       "  <tbody>\n",
       "    <tr>\n",
       "      <th>0</th>\n",
       "      <td>1</td>\n",
       "      <td>2024-01-05</td>\n",
       "      <td>10</td>\n",
       "      <td>13</td>\n",
       "      <td>1</td>\n",
       "      <td>25000</td>\n",
       "      <td>2500</td>\n",
       "    </tr>\n",
       "    <tr>\n",
       "      <th>1</th>\n",
       "      <td>2</td>\n",
       "      <td>2024-01-08</td>\n",
       "      <td>3</td>\n",
       "      <td>5</td>\n",
       "      <td>1</td>\n",
       "      <td>28000</td>\n",
       "      <td>2800</td>\n",
       "    </tr>\n",
       "    <tr>\n",
       "      <th>2</th>\n",
       "      <td>3</td>\n",
       "      <td>2024-02-12</td>\n",
       "      <td>8</td>\n",
       "      <td>2</td>\n",
       "      <td>2</td>\n",
       "      <td>28000</td>\n",
       "      <td>2800</td>\n",
       "    </tr>\n",
       "    <tr>\n",
       "      <th>3</th>\n",
       "      <td>4</td>\n",
       "      <td>2024-02-22</td>\n",
       "      <td>9</td>\n",
       "      <td>8</td>\n",
       "      <td>1</td>\n",
       "      <td>20000</td>\n",
       "      <td>2000</td>\n",
       "    </tr>\n",
       "    <tr>\n",
       "      <th>4</th>\n",
       "      <td>5</td>\n",
       "      <td>2024-03-01</td>\n",
       "      <td>7</td>\n",
       "      <td>4</td>\n",
       "      <td>3</td>\n",
       "      <td>96000</td>\n",
       "      <td>9600</td>\n",
       "    </tr>\n",
       "  </tbody>\n",
       "</table>\n",
       "</div>"
      ],
      "text/plain": [
       "   SaleID       Date  DealerID  ModelID  Quantity  TotalPrice  Total Profit\n",
       "0       1 2024-01-05        10       13         1       25000          2500\n",
       "1       2 2024-01-08         3        5         1       28000          2800\n",
       "2       3 2024-02-12         8        2         2       28000          2800\n",
       "3       4 2024-02-22         9        8         1       20000          2000\n",
       "4       5 2024-03-01         7        4         3       96000          9600"
      ]
     },
     "execution_count": 15,
     "metadata": {},
     "output_type": "execute_result"
    }
   ],
   "source": [
    "sales_raw = sheets['Sales']\n",
    "sales_raw.head()"
   ]
  },
  {
   "cell_type": "code",
   "execution_count": 16,
   "metadata": {},
   "outputs": [
    {
     "name": "stdout",
     "output_type": "stream",
     "text": [
      "<class 'pandas.core.frame.DataFrame'>\n",
      "RangeIndex: 218 entries, 0 to 217\n",
      "Data columns (total 7 columns):\n",
      " #   Column        Non-Null Count  Dtype         \n",
      "---  ------        --------------  -----         \n",
      " 0   SaleID        218 non-null    int64         \n",
      " 1   Date          218 non-null    datetime64[ns]\n",
      " 2   DealerID      218 non-null    int64         \n",
      " 3   ModelID       218 non-null    int64         \n",
      " 4   Quantity      218 non-null    int64         \n",
      " 5   TotalPrice    218 non-null    int64         \n",
      " 6   Total Profit  218 non-null    int64         \n",
      "dtypes: datetime64[ns](1), int64(6)\n",
      "memory usage: 12.1 KB\n"
     ]
    }
   ],
   "source": [
    "sales_raw.info()"
   ]
  },
  {
   "cell_type": "code",
   "execution_count": 17,
   "metadata": {},
   "outputs": [
    {
     "data": {
      "application/vnd.microsoft.datawrangler.viewer.v0+json": {
       "columns": [
        {
         "name": "index",
         "rawType": "int64",
         "type": "integer"
        },
        {
         "name": "sale_id",
         "rawType": "int64",
         "type": "integer"
        },
        {
         "name": "date",
         "rawType": "datetime64[ns]",
         "type": "datetime"
        },
        {
         "name": "dealer_id",
         "rawType": "int64",
         "type": "integer"
        },
        {
         "name": "model_id_raw",
         "rawType": "int64",
         "type": "integer"
        },
        {
         "name": "qty",
         "rawType": "int64",
         "type": "integer"
        },
        {
         "name": "total_price_raw",
         "rawType": "float64",
         "type": "float"
        },
        {
         "name": "total_profit_raw",
         "rawType": "float64",
         "type": "float"
        },
        {
         "name": "unit_price_raw",
         "rawType": "float64",
         "type": "float"
        },
        {
         "name": "unit_profit_raw",
         "rawType": "float64",
         "type": "float"
        }
       ],
       "conversionMethod": "pd.DataFrame",
       "ref": "421bda6b-ae6b-4dff-b3ea-1f92bdcbdd1d",
       "rows": [
        [
         "0",
         "1",
         "2024-01-05 00:00:00",
         "10",
         "13",
         "1",
         "25000.0",
         "2500.0",
         "25000.0",
         "2500.0"
        ],
        [
         "1",
         "2",
         "2024-01-08 00:00:00",
         "3",
         "5",
         "1",
         "28000.0",
         "2800.0",
         "28000.0",
         "2800.0"
        ],
        [
         "2",
         "3",
         "2024-02-12 00:00:00",
         "8",
         "2",
         "2",
         "28000.0",
         "2800.0",
         "14000.0",
         "1400.0"
        ],
        [
         "3",
         "4",
         "2024-02-22 00:00:00",
         "9",
         "8",
         "1",
         "20000.0",
         "2000.0",
         "20000.0",
         "2000.0"
        ],
        [
         "4",
         "5",
         "2024-03-01 00:00:00",
         "7",
         "4",
         "3",
         "96000.0",
         "9600.0",
         "32000.0",
         "3200.0"
        ]
       ],
       "shape": {
        "columns": 9,
        "rows": 5
       }
      },
      "text/html": [
       "<div>\n",
       "<style scoped>\n",
       "    .dataframe tbody tr th:only-of-type {\n",
       "        vertical-align: middle;\n",
       "    }\n",
       "\n",
       "    .dataframe tbody tr th {\n",
       "        vertical-align: top;\n",
       "    }\n",
       "\n",
       "    .dataframe thead th {\n",
       "        text-align: right;\n",
       "    }\n",
       "</style>\n",
       "<table border=\"1\" class=\"dataframe\">\n",
       "  <thead>\n",
       "    <tr style=\"text-align: right;\">\n",
       "      <th></th>\n",
       "      <th>sale_id</th>\n",
       "      <th>date</th>\n",
       "      <th>dealer_id</th>\n",
       "      <th>model_id_raw</th>\n",
       "      <th>qty</th>\n",
       "      <th>total_price_raw</th>\n",
       "      <th>total_profit_raw</th>\n",
       "      <th>unit_price_raw</th>\n",
       "      <th>unit_profit_raw</th>\n",
       "    </tr>\n",
       "  </thead>\n",
       "  <tbody>\n",
       "    <tr>\n",
       "      <th>0</th>\n",
       "      <td>1</td>\n",
       "      <td>2024-01-05</td>\n",
       "      <td>10</td>\n",
       "      <td>13</td>\n",
       "      <td>1</td>\n",
       "      <td>25000.0</td>\n",
       "      <td>2500.0</td>\n",
       "      <td>25000.0</td>\n",
       "      <td>2500.0</td>\n",
       "    </tr>\n",
       "    <tr>\n",
       "      <th>1</th>\n",
       "      <td>2</td>\n",
       "      <td>2024-01-08</td>\n",
       "      <td>3</td>\n",
       "      <td>5</td>\n",
       "      <td>1</td>\n",
       "      <td>28000.0</td>\n",
       "      <td>2800.0</td>\n",
       "      <td>28000.0</td>\n",
       "      <td>2800.0</td>\n",
       "    </tr>\n",
       "    <tr>\n",
       "      <th>2</th>\n",
       "      <td>3</td>\n",
       "      <td>2024-02-12</td>\n",
       "      <td>8</td>\n",
       "      <td>2</td>\n",
       "      <td>2</td>\n",
       "      <td>28000.0</td>\n",
       "      <td>2800.0</td>\n",
       "      <td>14000.0</td>\n",
       "      <td>1400.0</td>\n",
       "    </tr>\n",
       "    <tr>\n",
       "      <th>3</th>\n",
       "      <td>4</td>\n",
       "      <td>2024-02-22</td>\n",
       "      <td>9</td>\n",
       "      <td>8</td>\n",
       "      <td>1</td>\n",
       "      <td>20000.0</td>\n",
       "      <td>2000.0</td>\n",
       "      <td>20000.0</td>\n",
       "      <td>2000.0</td>\n",
       "    </tr>\n",
       "    <tr>\n",
       "      <th>4</th>\n",
       "      <td>5</td>\n",
       "      <td>2024-03-01</td>\n",
       "      <td>7</td>\n",
       "      <td>4</td>\n",
       "      <td>3</td>\n",
       "      <td>96000.0</td>\n",
       "      <td>9600.0</td>\n",
       "      <td>32000.0</td>\n",
       "      <td>3200.0</td>\n",
       "    </tr>\n",
       "  </tbody>\n",
       "</table>\n",
       "</div>"
      ],
      "text/plain": [
       "   sale_id       date  dealer_id  model_id_raw  qty  total_price_raw  \\\n",
       "0        1 2024-01-05         10            13    1          25000.0   \n",
       "1        2 2024-01-08          3             5    1          28000.0   \n",
       "2        3 2024-02-12          8             2    2          28000.0   \n",
       "3        4 2024-02-22          9             8    1          20000.0   \n",
       "4        5 2024-03-01          7             4    3          96000.0   \n",
       "\n",
       "   total_profit_raw  unit_price_raw  unit_profit_raw  \n",
       "0            2500.0         25000.0           2500.0  \n",
       "1            2800.0         28000.0           2800.0  \n",
       "2            2800.0         14000.0           1400.0  \n",
       "3            2000.0         20000.0           2000.0  \n",
       "4            9600.0         32000.0           3200.0  "
      ]
     },
     "execution_count": 17,
     "metadata": {},
     "output_type": "execute_result"
    }
   ],
   "source": [
    "sales_temp_1 = db.sql(\n",
    "    \"\"\"\n",
    "    select\n",
    "        SaleID as sale_id,\n",
    "        Date as date,\n",
    "        DealerID as dealer_id,\n",
    "        ModelID as model_id_raw,\n",
    "        Quantity as qty,\n",
    "        TotalPrice::numeric as total_price_raw,\n",
    "        \"Total Profit\"::numeric as total_profit_raw,\n",
    "        (total_price_raw/qty)::numeric as unit_price_raw,\n",
    "        (total_profit_raw/qty)::numeric as unit_profit_raw\n",
    "    from (\n",
    "        select distinct(*)\n",
    "        from sales_raw\n",
    "        order by SaleID asc\n",
    "    )\n",
    "    \"\"\"\n",
    ").df()\n",
    "sales_temp_1.head()"
   ]
  },
  {
   "cell_type": "markdown",
   "metadata": {},
   "source": [
    "Get sales where `dealer_id` is between 1 and 10\n"
   ]
  },
  {
   "cell_type": "code",
   "execution_count": 18,
   "metadata": {},
   "outputs": [],
   "source": [
    "sales_temp_2 = db.sql(\n",
    "    \"\"\"\n",
    "    select *\n",
    "    from sales_temp_1\n",
    "    where dealer_id between 1 and 10\n",
    "    order by sale_id\n",
    "    \"\"\"\n",
    ").df()"
   ]
  },
  {
   "cell_type": "code",
   "execution_count": 16,
   "metadata": {},
   "outputs": [
    {
     "data": {
      "application/vnd.microsoft.datawrangler.viewer.v0+json": {
       "columns": [
        {
         "name": "index",
         "rawType": "int64",
         "type": "integer"
        },
        {
         "name": "sale_id",
         "rawType": "int64",
         "type": "integer"
        },
        {
         "name": "date",
         "rawType": "datetime64[ns]",
         "type": "datetime"
        },
        {
         "name": "dealer_id",
         "rawType": "int64",
         "type": "integer"
        },
        {
         "name": "model_id_raw",
         "rawType": "int64",
         "type": "integer"
        },
        {
         "name": "qty",
         "rawType": "int64",
         "type": "integer"
        },
        {
         "name": "total_price_raw",
         "rawType": "float64",
         "type": "float"
        },
        {
         "name": "total_profit_raw",
         "rawType": "float64",
         "type": "float"
        },
        {
         "name": "unit_price_raw",
         "rawType": "float64",
         "type": "float"
        },
        {
         "name": "unit_profit_raw",
         "rawType": "float64",
         "type": "float"
        }
       ],
       "conversionMethod": "pd.DataFrame",
       "ref": "4042eae4-df03-4a92-ba8e-5cc8becbfa3d",
       "rows": [
        [
         "0",
         "1",
         "2024-01-05 00:00:00",
         "10",
         "13",
         "1",
         "25000.0",
         "2500.0",
         "25000.0",
         "2500.0"
        ],
        [
         "1",
         "2",
         "2024-01-08 00:00:00",
         "3",
         "5",
         "1",
         "28000.0",
         "2800.0",
         "28000.0",
         "2800.0"
        ],
        [
         "2",
         "3",
         "2024-02-12 00:00:00",
         "8",
         "2",
         "2",
         "28000.0",
         "2800.0",
         "14000.0",
         "1400.0"
        ],
        [
         "3",
         "4",
         "2024-02-22 00:00:00",
         "9",
         "8",
         "1",
         "20000.0",
         "2000.0",
         "20000.0",
         "2000.0"
        ],
        [
         "4",
         "5",
         "2024-03-01 00:00:00",
         "7",
         "4",
         "3",
         "96000.0",
         "9600.0",
         "32000.0",
         "3200.0"
        ]
       ],
       "shape": {
        "columns": 9,
        "rows": 5
       }
      },
      "text/html": [
       "<div>\n",
       "<style scoped>\n",
       "    .dataframe tbody tr th:only-of-type {\n",
       "        vertical-align: middle;\n",
       "    }\n",
       "\n",
       "    .dataframe tbody tr th {\n",
       "        vertical-align: top;\n",
       "    }\n",
       "\n",
       "    .dataframe thead th {\n",
       "        text-align: right;\n",
       "    }\n",
       "</style>\n",
       "<table border=\"1\" class=\"dataframe\">\n",
       "  <thead>\n",
       "    <tr style=\"text-align: right;\">\n",
       "      <th></th>\n",
       "      <th>sale_id</th>\n",
       "      <th>date</th>\n",
       "      <th>dealer_id</th>\n",
       "      <th>model_id_raw</th>\n",
       "      <th>qty</th>\n",
       "      <th>total_price_raw</th>\n",
       "      <th>total_profit_raw</th>\n",
       "      <th>unit_price_raw</th>\n",
       "      <th>unit_profit_raw</th>\n",
       "    </tr>\n",
       "  </thead>\n",
       "  <tbody>\n",
       "    <tr>\n",
       "      <th>0</th>\n",
       "      <td>1</td>\n",
       "      <td>2024-01-05</td>\n",
       "      <td>10</td>\n",
       "      <td>13</td>\n",
       "      <td>1</td>\n",
       "      <td>25000.0</td>\n",
       "      <td>2500.0</td>\n",
       "      <td>25000.0</td>\n",
       "      <td>2500.0</td>\n",
       "    </tr>\n",
       "    <tr>\n",
       "      <th>1</th>\n",
       "      <td>2</td>\n",
       "      <td>2024-01-08</td>\n",
       "      <td>3</td>\n",
       "      <td>5</td>\n",
       "      <td>1</td>\n",
       "      <td>28000.0</td>\n",
       "      <td>2800.0</td>\n",
       "      <td>28000.0</td>\n",
       "      <td>2800.0</td>\n",
       "    </tr>\n",
       "    <tr>\n",
       "      <th>2</th>\n",
       "      <td>3</td>\n",
       "      <td>2024-02-12</td>\n",
       "      <td>8</td>\n",
       "      <td>2</td>\n",
       "      <td>2</td>\n",
       "      <td>28000.0</td>\n",
       "      <td>2800.0</td>\n",
       "      <td>14000.0</td>\n",
       "      <td>1400.0</td>\n",
       "    </tr>\n",
       "    <tr>\n",
       "      <th>3</th>\n",
       "      <td>4</td>\n",
       "      <td>2024-02-22</td>\n",
       "      <td>9</td>\n",
       "      <td>8</td>\n",
       "      <td>1</td>\n",
       "      <td>20000.0</td>\n",
       "      <td>2000.0</td>\n",
       "      <td>20000.0</td>\n",
       "      <td>2000.0</td>\n",
       "    </tr>\n",
       "    <tr>\n",
       "      <th>4</th>\n",
       "      <td>5</td>\n",
       "      <td>2024-03-01</td>\n",
       "      <td>7</td>\n",
       "      <td>4</td>\n",
       "      <td>3</td>\n",
       "      <td>96000.0</td>\n",
       "      <td>9600.0</td>\n",
       "      <td>32000.0</td>\n",
       "      <td>3200.0</td>\n",
       "    </tr>\n",
       "  </tbody>\n",
       "</table>\n",
       "</div>"
      ],
      "text/plain": [
       "   sale_id       date  dealer_id  model_id_raw  qty  total_price_raw  \\\n",
       "0        1 2024-01-05         10            13    1          25000.0   \n",
       "1        2 2024-01-08          3             5    1          28000.0   \n",
       "2        3 2024-02-12          8             2    2          28000.0   \n",
       "3        4 2024-02-22          9             8    1          20000.0   \n",
       "4        5 2024-03-01          7             4    3          96000.0   \n",
       "\n",
       "   total_profit_raw  unit_price_raw  unit_profit_raw  \n",
       "0            2500.0         25000.0           2500.0  \n",
       "1            2800.0         28000.0           2800.0  \n",
       "2            2800.0         14000.0           1400.0  \n",
       "3            2000.0         20000.0           2000.0  \n",
       "4            9600.0         32000.0           3200.0  "
      ]
     },
     "execution_count": 16,
     "metadata": {},
     "output_type": "execute_result"
    }
   ],
   "source": [
    "sales_temp_2.head()"
   ]
  },
  {
   "cell_type": "markdown",
   "metadata": {},
   "source": [
    "Using the `unit_price` and `unit_profit` column, extract the correct `model_id` for each sale from `models_clean` table"
   ]
  },
  {
   "cell_type": "code",
   "execution_count": 19,
   "metadata": {},
   "outputs": [],
   "source": [
    "sales_temp_3 = db.sql(\n",
    "    \"\"\"\n",
    "    select\n",
    "        a.sale_id,\n",
    "        a.date,\n",
    "        a.dealer_id,\n",
    "        a.model_id_raw,\n",
    "        b.model_id as model_id_final,\n",
    "        a.qty,\n",
    "        a.total_price_raw,\n",
    "        a.total_profit_raw,\n",
    "        a.unit_price_raw,\n",
    "        a.unit_profit_raw,\n",
    "        b.unit_price_usd,\n",
    "        b.unit_profit_usd,\n",
    "        (b.unit_profit_usd * a.qty)::numeric as total_profit_final\n",
    "    from sales_temp_2 as a\n",
    "    left join models_clean as b on a.unit_price_raw = b.unit_price_usd and a.unit_profit_raw = b.unit_profit_usd\n",
    "    order by sale_id asc\n",
    "    \"\"\"\n",
    ").df()"
   ]
  },
  {
   "cell_type": "code",
   "execution_count": 20,
   "metadata": {},
   "outputs": [
    {
     "data": {
      "application/vnd.microsoft.datawrangler.viewer.v0+json": {
       "columns": [
        {
         "name": "index",
         "rawType": "int64",
         "type": "integer"
        },
        {
         "name": "sale_id",
         "rawType": "int64",
         "type": "integer"
        },
        {
         "name": "date",
         "rawType": "datetime64[ns]",
         "type": "datetime"
        },
        {
         "name": "dealer_id",
         "rawType": "int64",
         "type": "integer"
        },
        {
         "name": "model_id_raw",
         "rawType": "int64",
         "type": "integer"
        },
        {
         "name": "model_id_final",
         "rawType": "int64",
         "type": "integer"
        },
        {
         "name": "qty",
         "rawType": "int64",
         "type": "integer"
        },
        {
         "name": "total_price_raw",
         "rawType": "float64",
         "type": "float"
        },
        {
         "name": "total_profit_raw",
         "rawType": "float64",
         "type": "float"
        },
        {
         "name": "unit_price_raw",
         "rawType": "float64",
         "type": "float"
        },
        {
         "name": "unit_profit_raw",
         "rawType": "float64",
         "type": "float"
        },
        {
         "name": "unit_price_usd",
         "rawType": "float64",
         "type": "float"
        },
        {
         "name": "unit_profit_usd",
         "rawType": "float64",
         "type": "float"
        },
        {
         "name": "total_profit_final",
         "rawType": "float64",
         "type": "float"
        }
       ],
       "conversionMethod": "pd.DataFrame",
       "ref": "089dccde-fea7-47e9-9af2-69a26db05ca3",
       "rows": [
        [
         "0",
         "1",
         "2024-01-05 00:00:00",
         "10",
         "13",
         "1",
         "1",
         "25000.0",
         "2500.0",
         "25000.0",
         "2500.0",
         "25000.0",
         "2500.0",
         "2500.0"
        ],
        [
         "1",
         "2",
         "2024-01-08 00:00:00",
         "3",
         "5",
         "3",
         "1",
         "28000.0",
         "2800.0",
         "28000.0",
         "2800.0",
         "28000.0",
         "2800.0",
         "2800.0"
        ],
        [
         "2",
         "3",
         "2024-02-12 00:00:00",
         "8",
         "2",
         "10",
         "2",
         "28000.0",
         "2800.0",
         "14000.0",
         "1400.0",
         "14000.0",
         "1400.0",
         "2800.0"
        ],
        [
         "3",
         "4",
         "2024-02-22 00:00:00",
         "9",
         "8",
         "13",
         "1",
         "20000.0",
         "2000.0",
         "20000.0",
         "2000.0",
         "20000.0",
         "2000.0",
         "2000.0"
        ],
        [
         "4",
         "5",
         "2024-03-01 00:00:00",
         "7",
         "4",
         "9",
         "3",
         "96000.0",
         "9600.0",
         "32000.0",
         "3200.0",
         "32000.0",
         "3200.0",
         "9600.0"
        ]
       ],
       "shape": {
        "columns": 13,
        "rows": 5
       }
      },
      "text/html": [
       "<div>\n",
       "<style scoped>\n",
       "    .dataframe tbody tr th:only-of-type {\n",
       "        vertical-align: middle;\n",
       "    }\n",
       "\n",
       "    .dataframe tbody tr th {\n",
       "        vertical-align: top;\n",
       "    }\n",
       "\n",
       "    .dataframe thead th {\n",
       "        text-align: right;\n",
       "    }\n",
       "</style>\n",
       "<table border=\"1\" class=\"dataframe\">\n",
       "  <thead>\n",
       "    <tr style=\"text-align: right;\">\n",
       "      <th></th>\n",
       "      <th>sale_id</th>\n",
       "      <th>date</th>\n",
       "      <th>dealer_id</th>\n",
       "      <th>model_id_raw</th>\n",
       "      <th>model_id_final</th>\n",
       "      <th>qty</th>\n",
       "      <th>total_price_raw</th>\n",
       "      <th>total_profit_raw</th>\n",
       "      <th>unit_price_raw</th>\n",
       "      <th>unit_profit_raw</th>\n",
       "      <th>unit_price_usd</th>\n",
       "      <th>unit_profit_usd</th>\n",
       "      <th>total_profit_final</th>\n",
       "    </tr>\n",
       "  </thead>\n",
       "  <tbody>\n",
       "    <tr>\n",
       "      <th>0</th>\n",
       "      <td>1</td>\n",
       "      <td>2024-01-05</td>\n",
       "      <td>10</td>\n",
       "      <td>13</td>\n",
       "      <td>1</td>\n",
       "      <td>1</td>\n",
       "      <td>25000.0</td>\n",
       "      <td>2500.0</td>\n",
       "      <td>25000.0</td>\n",
       "      <td>2500.0</td>\n",
       "      <td>25000.0</td>\n",
       "      <td>2500.0</td>\n",
       "      <td>2500.0</td>\n",
       "    </tr>\n",
       "    <tr>\n",
       "      <th>1</th>\n",
       "      <td>2</td>\n",
       "      <td>2024-01-08</td>\n",
       "      <td>3</td>\n",
       "      <td>5</td>\n",
       "      <td>3</td>\n",
       "      <td>1</td>\n",
       "      <td>28000.0</td>\n",
       "      <td>2800.0</td>\n",
       "      <td>28000.0</td>\n",
       "      <td>2800.0</td>\n",
       "      <td>28000.0</td>\n",
       "      <td>2800.0</td>\n",
       "      <td>2800.0</td>\n",
       "    </tr>\n",
       "    <tr>\n",
       "      <th>2</th>\n",
       "      <td>3</td>\n",
       "      <td>2024-02-12</td>\n",
       "      <td>8</td>\n",
       "      <td>2</td>\n",
       "      <td>10</td>\n",
       "      <td>2</td>\n",
       "      <td>28000.0</td>\n",
       "      <td>2800.0</td>\n",
       "      <td>14000.0</td>\n",
       "      <td>1400.0</td>\n",
       "      <td>14000.0</td>\n",
       "      <td>1400.0</td>\n",
       "      <td>2800.0</td>\n",
       "    </tr>\n",
       "    <tr>\n",
       "      <th>3</th>\n",
       "      <td>4</td>\n",
       "      <td>2024-02-22</td>\n",
       "      <td>9</td>\n",
       "      <td>8</td>\n",
       "      <td>13</td>\n",
       "      <td>1</td>\n",
       "      <td>20000.0</td>\n",
       "      <td>2000.0</td>\n",
       "      <td>20000.0</td>\n",
       "      <td>2000.0</td>\n",
       "      <td>20000.0</td>\n",
       "      <td>2000.0</td>\n",
       "      <td>2000.0</td>\n",
       "    </tr>\n",
       "    <tr>\n",
       "      <th>4</th>\n",
       "      <td>5</td>\n",
       "      <td>2024-03-01</td>\n",
       "      <td>7</td>\n",
       "      <td>4</td>\n",
       "      <td>9</td>\n",
       "      <td>3</td>\n",
       "      <td>96000.0</td>\n",
       "      <td>9600.0</td>\n",
       "      <td>32000.0</td>\n",
       "      <td>3200.0</td>\n",
       "      <td>32000.0</td>\n",
       "      <td>3200.0</td>\n",
       "      <td>9600.0</td>\n",
       "    </tr>\n",
       "  </tbody>\n",
       "</table>\n",
       "</div>"
      ],
      "text/plain": [
       "   sale_id       date  dealer_id  model_id_raw  model_id_final  qty  \\\n",
       "0        1 2024-01-05         10            13               1    1   \n",
       "1        2 2024-01-08          3             5               3    1   \n",
       "2        3 2024-02-12          8             2              10    2   \n",
       "3        4 2024-02-22          9             8              13    1   \n",
       "4        5 2024-03-01          7             4               9    3   \n",
       "\n",
       "   total_price_raw  total_profit_raw  unit_price_raw  unit_profit_raw  \\\n",
       "0          25000.0            2500.0         25000.0           2500.0   \n",
       "1          28000.0            2800.0         28000.0           2800.0   \n",
       "2          28000.0            2800.0         14000.0           1400.0   \n",
       "3          20000.0            2000.0         20000.0           2000.0   \n",
       "4          96000.0            9600.0         32000.0           3200.0   \n",
       "\n",
       "   unit_price_usd  unit_profit_usd  total_profit_final  \n",
       "0         25000.0           2500.0              2500.0  \n",
       "1         28000.0           2800.0              2800.0  \n",
       "2         14000.0           1400.0              2800.0  \n",
       "3         20000.0           2000.0              2000.0  \n",
       "4         32000.0           3200.0              9600.0  "
      ]
     },
     "execution_count": 20,
     "metadata": {},
     "output_type": "execute_result"
    }
   ],
   "source": [
    "sales_temp_3.head()"
   ]
  },
  {
   "cell_type": "code",
   "execution_count": 21,
   "metadata": {},
   "outputs": [
    {
     "data": {
      "application/vnd.microsoft.datawrangler.viewer.v0+json": {
       "columns": [
        {
         "name": "index",
         "rawType": "int64",
         "type": "integer"
        },
        {
         "name": "sale_id",
         "rawType": "int64",
         "type": "integer"
        },
        {
         "name": "date",
         "rawType": "datetime64[ns]",
         "type": "datetime"
        },
        {
         "name": "dealer_id",
         "rawType": "int64",
         "type": "integer"
        },
        {
         "name": "model_id",
         "rawType": "int64",
         "type": "integer"
        },
        {
         "name": "qty_sold",
         "rawType": "int64",
         "type": "integer"
        }
       ],
       "conversionMethod": "pd.DataFrame",
       "ref": "a1e91d35-6a25-4f6e-8ec2-f9791c5cf7af",
       "rows": [
        [
         "0",
         "1",
         "2024-01-05 00:00:00",
         "10",
         "1",
         "1"
        ],
        [
         "1",
         "2",
         "2024-01-08 00:00:00",
         "3",
         "3",
         "1"
        ],
        [
         "2",
         "3",
         "2024-02-12 00:00:00",
         "8",
         "10",
         "2"
        ],
        [
         "3",
         "4",
         "2024-02-22 00:00:00",
         "9",
         "13",
         "1"
        ],
        [
         "4",
         "5",
         "2024-03-01 00:00:00",
         "7",
         "9",
         "3"
        ]
       ],
       "shape": {
        "columns": 5,
        "rows": 5
       }
      },
      "text/html": [
       "<div>\n",
       "<style scoped>\n",
       "    .dataframe tbody tr th:only-of-type {\n",
       "        vertical-align: middle;\n",
       "    }\n",
       "\n",
       "    .dataframe tbody tr th {\n",
       "        vertical-align: top;\n",
       "    }\n",
       "\n",
       "    .dataframe thead th {\n",
       "        text-align: right;\n",
       "    }\n",
       "</style>\n",
       "<table border=\"1\" class=\"dataframe\">\n",
       "  <thead>\n",
       "    <tr style=\"text-align: right;\">\n",
       "      <th></th>\n",
       "      <th>sale_id</th>\n",
       "      <th>date</th>\n",
       "      <th>dealer_id</th>\n",
       "      <th>model_id</th>\n",
       "      <th>qty_sold</th>\n",
       "    </tr>\n",
       "  </thead>\n",
       "  <tbody>\n",
       "    <tr>\n",
       "      <th>0</th>\n",
       "      <td>1</td>\n",
       "      <td>2024-01-05</td>\n",
       "      <td>10</td>\n",
       "      <td>1</td>\n",
       "      <td>1</td>\n",
       "    </tr>\n",
       "    <tr>\n",
       "      <th>1</th>\n",
       "      <td>2</td>\n",
       "      <td>2024-01-08</td>\n",
       "      <td>3</td>\n",
       "      <td>3</td>\n",
       "      <td>1</td>\n",
       "    </tr>\n",
       "    <tr>\n",
       "      <th>2</th>\n",
       "      <td>3</td>\n",
       "      <td>2024-02-12</td>\n",
       "      <td>8</td>\n",
       "      <td>10</td>\n",
       "      <td>2</td>\n",
       "    </tr>\n",
       "    <tr>\n",
       "      <th>3</th>\n",
       "      <td>4</td>\n",
       "      <td>2024-02-22</td>\n",
       "      <td>9</td>\n",
       "      <td>13</td>\n",
       "      <td>1</td>\n",
       "    </tr>\n",
       "    <tr>\n",
       "      <th>4</th>\n",
       "      <td>5</td>\n",
       "      <td>2024-03-01</td>\n",
       "      <td>7</td>\n",
       "      <td>9</td>\n",
       "      <td>3</td>\n",
       "    </tr>\n",
       "  </tbody>\n",
       "</table>\n",
       "</div>"
      ],
      "text/plain": [
       "   sale_id       date  dealer_id  model_id  qty_sold\n",
       "0        1 2024-01-05         10         1         1\n",
       "1        2 2024-01-08          3         3         1\n",
       "2        3 2024-02-12          8        10         2\n",
       "3        4 2024-02-22          9        13         1\n",
       "4        5 2024-03-01          7         9         3"
      ]
     },
     "execution_count": 21,
     "metadata": {},
     "output_type": "execute_result"
    }
   ],
   "source": [
    "car_sales_clean = db.sql(\n",
    "    \"\"\"\n",
    "    select\n",
    "        sale_id,\n",
    "        date,\n",
    "        dealer_id,\n",
    "        model_id_final as model_id,\n",
    "        qty as qty_sold\n",
    "    from sales_temp_3\n",
    "    \"\"\"\n",
    ").df()\n",
    "car_sales_clean.head()"
   ]
  },
  {
   "cell_type": "code",
   "execution_count": 22,
   "metadata": {},
   "outputs": [],
   "source": [
    "car_sales_records = db.sql(\n",
    "    \"\"\"\n",
    "    select\n",
    "        a.sale_id,\n",
    "        a.date,\n",
    "        extract(year from a.date) as date_year,\n",
    "        extract(month from a.date) as date_month,\n",
    "        strftime(a.date,'%b') as date_month_name,\n",
    "        extract(day from a.date) as date_day,\n",
    "        extract(dow from a.date) as date_dow,\n",
    "        strftime(a.date,'%a') as date_dow_name,\n",
    "        c.dealer_name,\n",
    "        c.country as dealer_country,\n",
    "        c.city as dealer_city,\n",
    "        b.model,\n",
    "        b.segment,\n",
    "        b.brand,\n",
    "        b.engine_size_l,\n",
    "        b.fuel_type,\n",
    "        b.unit_price_usd,\n",
    "        b.unit_profit_usd,\n",
    "        a.qty_sold,\n",
    "        (a.qty_sold*b.unit_price_usd)::numeric as total_price_usd,\n",
    "        (a.qty_sold*b.unit_profit_usd)::numeric as total_profit_usd\n",
    "    from car_sales_clean as a\n",
    "    left join models_clean as b on b.model_id = a.model_id\n",
    "    left join dealers_clean as c on c.dealer_id = a.dealer_id\n",
    "    order by sale_id asc\n",
    "    \"\"\"\n",
    ").df()"
   ]
  },
  {
   "cell_type": "code",
   "execution_count": 23,
   "metadata": {},
   "outputs": [
    {
     "data": {
      "application/vnd.microsoft.datawrangler.viewer.v0+json": {
       "columns": [
        {
         "name": "index",
         "rawType": "int64",
         "type": "integer"
        },
        {
         "name": "sale_id",
         "rawType": "int64",
         "type": "integer"
        },
        {
         "name": "date",
         "rawType": "datetime64[ns]",
         "type": "datetime"
        },
        {
         "name": "date_year",
         "rawType": "int64",
         "type": "integer"
        },
        {
         "name": "date_month",
         "rawType": "int64",
         "type": "integer"
        },
        {
         "name": "date_month_name",
         "rawType": "object",
         "type": "string"
        },
        {
         "name": "date_day",
         "rawType": "int64",
         "type": "integer"
        },
        {
         "name": "date_dow",
         "rawType": "int64",
         "type": "integer"
        },
        {
         "name": "date_dow_name",
         "rawType": "object",
         "type": "string"
        },
        {
         "name": "dealer_name",
         "rawType": "object",
         "type": "string"
        },
        {
         "name": "dealer_country",
         "rawType": "object",
         "type": "string"
        },
        {
         "name": "dealer_city",
         "rawType": "object",
         "type": "string"
        },
        {
         "name": "model",
         "rawType": "object",
         "type": "string"
        },
        {
         "name": "segment",
         "rawType": "object",
         "type": "string"
        },
        {
         "name": "brand",
         "rawType": "object",
         "type": "string"
        },
        {
         "name": "engine_size_l",
         "rawType": "float64",
         "type": "float"
        },
        {
         "name": "fuel_type",
         "rawType": "object",
         "type": "string"
        },
        {
         "name": "unit_price_usd",
         "rawType": "float64",
         "type": "float"
        },
        {
         "name": "unit_profit_usd",
         "rawType": "float64",
         "type": "float"
        },
        {
         "name": "qty_sold",
         "rawType": "int64",
         "type": "integer"
        },
        {
         "name": "total_price_usd",
         "rawType": "float64",
         "type": "float"
        },
        {
         "name": "total_profit_usd",
         "rawType": "float64",
         "type": "float"
        }
       ],
       "conversionMethod": "pd.DataFrame",
       "ref": "722c8c1b-bf45-41d3-8741-c242574bafca",
       "rows": [
        [
         "0",
         "1",
         "2024-01-05 00:00:00",
         "2024",
         "1",
         "Jan",
         "5",
         "5",
         "Fri",
         "Bangkok Cars",
         "Thailand",
         "Bangkok",
         "Ranger",
         "Pickup",
         "Ford",
         "2.0",
         "Diesel",
         "25000.0",
         "2500.0",
         "1",
         "25000.0",
         "2500.0"
        ],
        [
         "1",
         "2",
         "2024-01-08 00:00:00",
         "2024",
         "1",
         "Jan",
         "8",
         "1",
         "Mon",
         "Prime Autos",
         "Singapore",
         "Singapore",
         "CR-V",
         "SUV",
         "Honda",
         "2.4",
         "Gasoline",
         "28000.0",
         "2800.0",
         "1",
         "28000.0",
         "2800.0"
        ],
        [
         "2",
         "3",
         "2024-02-12 00:00:00",
         "2024",
         "2",
         "Feb",
         "12",
         "1",
         "Mon",
         "Bacolod Wheels",
         "Philippines",
         "Bacolod City",
         "Defender",
         "SUV",
         "Land Rover",
         "1.8",
         "Gasoline",
         "14000.0",
         "1400.0",
         "2",
         "28000.0",
         "2800.0"
        ],
        [
         "3",
         "4",
         "2024-02-22 00:00:00",
         "2024",
         "2",
         "Feb",
         "22",
         "4",
         "Thu",
         "Iloilo Car Center",
         "Philippines",
         "Iloilo City",
         "Forester",
         "SUV",
         "Subaru",
         "1.8",
         "Gasoline",
         "20000.0",
         "2000.0",
         "1",
         "20000.0",
         "2000.0"
        ],
        [
         "4",
         "5",
         "2024-03-01 00:00:00",
         "2024",
         "3",
         "Mar",
         "1",
         "5",
         "Fri",
         "Capital Cars",
         "Philippines",
         "Quezon City",
         "Outlander",
         "SUV",
         "Mitsubishi",
         "2.4",
         "Gasoline",
         "32000.0",
         "3200.0",
         "3",
         "96000.0",
         "9600.0"
        ]
       ],
       "shape": {
        "columns": 21,
        "rows": 5
       }
      },
      "text/html": [
       "<div>\n",
       "<style scoped>\n",
       "    .dataframe tbody tr th:only-of-type {\n",
       "        vertical-align: middle;\n",
       "    }\n",
       "\n",
       "    .dataframe tbody tr th {\n",
       "        vertical-align: top;\n",
       "    }\n",
       "\n",
       "    .dataframe thead th {\n",
       "        text-align: right;\n",
       "    }\n",
       "</style>\n",
       "<table border=\"1\" class=\"dataframe\">\n",
       "  <thead>\n",
       "    <tr style=\"text-align: right;\">\n",
       "      <th></th>\n",
       "      <th>sale_id</th>\n",
       "      <th>date</th>\n",
       "      <th>date_year</th>\n",
       "      <th>date_month</th>\n",
       "      <th>date_month_name</th>\n",
       "      <th>date_day</th>\n",
       "      <th>date_dow</th>\n",
       "      <th>date_dow_name</th>\n",
       "      <th>dealer_name</th>\n",
       "      <th>dealer_country</th>\n",
       "      <th>...</th>\n",
       "      <th>model</th>\n",
       "      <th>segment</th>\n",
       "      <th>brand</th>\n",
       "      <th>engine_size_l</th>\n",
       "      <th>fuel_type</th>\n",
       "      <th>unit_price_usd</th>\n",
       "      <th>unit_profit_usd</th>\n",
       "      <th>qty_sold</th>\n",
       "      <th>total_price_usd</th>\n",
       "      <th>total_profit_usd</th>\n",
       "    </tr>\n",
       "  </thead>\n",
       "  <tbody>\n",
       "    <tr>\n",
       "      <th>0</th>\n",
       "      <td>1</td>\n",
       "      <td>2024-01-05</td>\n",
       "      <td>2024</td>\n",
       "      <td>1</td>\n",
       "      <td>Jan</td>\n",
       "      <td>5</td>\n",
       "      <td>5</td>\n",
       "      <td>Fri</td>\n",
       "      <td>Bangkok Cars</td>\n",
       "      <td>Thailand</td>\n",
       "      <td>...</td>\n",
       "      <td>Ranger</td>\n",
       "      <td>Pickup</td>\n",
       "      <td>Ford</td>\n",
       "      <td>2.0</td>\n",
       "      <td>Diesel</td>\n",
       "      <td>25000.0</td>\n",
       "      <td>2500.0</td>\n",
       "      <td>1</td>\n",
       "      <td>25000.0</td>\n",
       "      <td>2500.0</td>\n",
       "    </tr>\n",
       "    <tr>\n",
       "      <th>1</th>\n",
       "      <td>2</td>\n",
       "      <td>2024-01-08</td>\n",
       "      <td>2024</td>\n",
       "      <td>1</td>\n",
       "      <td>Jan</td>\n",
       "      <td>8</td>\n",
       "      <td>1</td>\n",
       "      <td>Mon</td>\n",
       "      <td>Prime Autos</td>\n",
       "      <td>Singapore</td>\n",
       "      <td>...</td>\n",
       "      <td>CR-V</td>\n",
       "      <td>SUV</td>\n",
       "      <td>Honda</td>\n",
       "      <td>2.4</td>\n",
       "      <td>Gasoline</td>\n",
       "      <td>28000.0</td>\n",
       "      <td>2800.0</td>\n",
       "      <td>1</td>\n",
       "      <td>28000.0</td>\n",
       "      <td>2800.0</td>\n",
       "    </tr>\n",
       "    <tr>\n",
       "      <th>2</th>\n",
       "      <td>3</td>\n",
       "      <td>2024-02-12</td>\n",
       "      <td>2024</td>\n",
       "      <td>2</td>\n",
       "      <td>Feb</td>\n",
       "      <td>12</td>\n",
       "      <td>1</td>\n",
       "      <td>Mon</td>\n",
       "      <td>Bacolod Wheels</td>\n",
       "      <td>Philippines</td>\n",
       "      <td>...</td>\n",
       "      <td>Defender</td>\n",
       "      <td>SUV</td>\n",
       "      <td>Land Rover</td>\n",
       "      <td>1.8</td>\n",
       "      <td>Gasoline</td>\n",
       "      <td>14000.0</td>\n",
       "      <td>1400.0</td>\n",
       "      <td>2</td>\n",
       "      <td>28000.0</td>\n",
       "      <td>2800.0</td>\n",
       "    </tr>\n",
       "    <tr>\n",
       "      <th>3</th>\n",
       "      <td>4</td>\n",
       "      <td>2024-02-22</td>\n",
       "      <td>2024</td>\n",
       "      <td>2</td>\n",
       "      <td>Feb</td>\n",
       "      <td>22</td>\n",
       "      <td>4</td>\n",
       "      <td>Thu</td>\n",
       "      <td>Iloilo Car Center</td>\n",
       "      <td>Philippines</td>\n",
       "      <td>...</td>\n",
       "      <td>Forester</td>\n",
       "      <td>SUV</td>\n",
       "      <td>Subaru</td>\n",
       "      <td>1.8</td>\n",
       "      <td>Gasoline</td>\n",
       "      <td>20000.0</td>\n",
       "      <td>2000.0</td>\n",
       "      <td>1</td>\n",
       "      <td>20000.0</td>\n",
       "      <td>2000.0</td>\n",
       "    </tr>\n",
       "    <tr>\n",
       "      <th>4</th>\n",
       "      <td>5</td>\n",
       "      <td>2024-03-01</td>\n",
       "      <td>2024</td>\n",
       "      <td>3</td>\n",
       "      <td>Mar</td>\n",
       "      <td>1</td>\n",
       "      <td>5</td>\n",
       "      <td>Fri</td>\n",
       "      <td>Capital Cars</td>\n",
       "      <td>Philippines</td>\n",
       "      <td>...</td>\n",
       "      <td>Outlander</td>\n",
       "      <td>SUV</td>\n",
       "      <td>Mitsubishi</td>\n",
       "      <td>2.4</td>\n",
       "      <td>Gasoline</td>\n",
       "      <td>32000.0</td>\n",
       "      <td>3200.0</td>\n",
       "      <td>3</td>\n",
       "      <td>96000.0</td>\n",
       "      <td>9600.0</td>\n",
       "    </tr>\n",
       "  </tbody>\n",
       "</table>\n",
       "<p>5 rows × 21 columns</p>\n",
       "</div>"
      ],
      "text/plain": [
       "   sale_id       date  date_year  date_month date_month_name  date_day  \\\n",
       "0        1 2024-01-05       2024           1             Jan         5   \n",
       "1        2 2024-01-08       2024           1             Jan         8   \n",
       "2        3 2024-02-12       2024           2             Feb        12   \n",
       "3        4 2024-02-22       2024           2             Feb        22   \n",
       "4        5 2024-03-01       2024           3             Mar         1   \n",
       "\n",
       "   date_dow date_dow_name        dealer_name dealer_country  ...      model  \\\n",
       "0         5           Fri       Bangkok Cars       Thailand  ...     Ranger   \n",
       "1         1           Mon        Prime Autos      Singapore  ...       CR-V   \n",
       "2         1           Mon     Bacolod Wheels    Philippines  ...   Defender   \n",
       "3         4           Thu  Iloilo Car Center    Philippines  ...   Forester   \n",
       "4         5           Fri       Capital Cars    Philippines  ...  Outlander   \n",
       "\n",
       "  segment       brand engine_size_l  fuel_type unit_price_usd  \\\n",
       "0  Pickup        Ford           2.0     Diesel        25000.0   \n",
       "1     SUV       Honda           2.4   Gasoline        28000.0   \n",
       "2     SUV  Land Rover           1.8   Gasoline        14000.0   \n",
       "3     SUV      Subaru           1.8   Gasoline        20000.0   \n",
       "4     SUV  Mitsubishi           2.4   Gasoline        32000.0   \n",
       "\n",
       "   unit_profit_usd  qty_sold  total_price_usd  total_profit_usd  \n",
       "0           2500.0         1          25000.0            2500.0  \n",
       "1           2800.0         1          28000.0            2800.0  \n",
       "2           1400.0         2          28000.0            2800.0  \n",
       "3           2000.0         1          20000.0            2000.0  \n",
       "4           3200.0         3          96000.0            9600.0  \n",
       "\n",
       "[5 rows x 21 columns]"
      ]
     },
     "execution_count": 23,
     "metadata": {},
     "output_type": "execute_result"
    }
   ],
   "source": [
    "car_sales_records.head()"
   ]
  },
  {
   "cell_type": "markdown",
   "metadata": {},
   "source": [
    "Save sales records as csv"
   ]
  },
  {
   "cell_type": "code",
   "execution_count": 24,
   "metadata": {},
   "outputs": [],
   "source": [
    "car_sales_records.to_csv(r\"C:\\Users\\USER\\Desktop\\car_sales_analysis\\dataset\\car_sales_records.csv\",index=False)"
   ]
  },
  {
   "cell_type": "markdown",
   "metadata": {},
   "source": [
    "Create a new excel file"
   ]
  },
  {
   "cell_type": "code",
   "execution_count": 34,
   "metadata": {},
   "outputs": [],
   "source": [
    "with pd.ExcelWriter(r\"C:\\Users\\USER\\Desktop\\car_sales_analysis\\dataset\\cars_database_clean.xlsx\") as writer:\n",
    "    dealers_clean.to_excel(writer, sheet_name='dealers_clean', index=False)\n",
    "    models_clean.to_excel(writer, sheet_name='models_clean', index=False)\n",
    "    car_sales_clean.to_excel(writer, sheet_name='car_sales_clean', index=False)\n",
    "    car_sales_records.to_excel(writer, sheet_name='car_sales_records', index=False)"
   ]
  },
  {
   "cell_type": "markdown",
   "metadata": {},
   "source": [
    "Load clean dimension tables to motherduck for storage"
   ]
  },
  {
   "cell_type": "code",
   "execution_count": 25,
   "metadata": {},
   "outputs": [],
   "source": [
    "md_token = os.getenv('car_sales_token')"
   ]
  },
  {
   "cell_type": "code",
   "execution_count": 31,
   "metadata": {},
   "outputs": [],
   "source": [
    "con = db.connect(f'md:?motherduck_token={md_token}')"
   ]
  },
  {
   "cell_type": "code",
   "execution_count": 33,
   "metadata": {},
   "outputs": [],
   "source": [
    "con.sql(\"USE car_sales\")"
   ]
  },
  {
   "cell_type": "code",
   "execution_count": 34,
   "metadata": {},
   "outputs": [
    {
     "name": "stdout",
     "output_type": "stream",
     "text": [
      "┌────────────────────┐\n",
      "│ current_database() │\n",
      "│      varchar       │\n",
      "├────────────────────┤\n",
      "│ car_sales          │\n",
      "└────────────────────┘\n",
      "\n"
     ]
    }
   ],
   "source": [
    "con.sql(\"SELECT current_database()\").show()"
   ]
  },
  {
   "cell_type": "code",
   "execution_count": null,
   "metadata": {},
   "outputs": [],
   "source": [
    "con.sql(\n",
    "    \"\"\"\n",
    "    create schema if not exists car_sales.dim_facts_records\n",
    "    \"\"\"\n",
    ")"
   ]
  },
  {
   "cell_type": "code",
   "execution_count": 37,
   "metadata": {},
   "outputs": [
    {
     "data": {
      "text/plain": [
       "<duckdb.duckdb.DuckDBPyConnection at 0x24521e0a770>"
      ]
     },
     "execution_count": 37,
     "metadata": {},
     "output_type": "execute_result"
    }
   ],
   "source": [
    "con.execute(\"CREATE TABLE dim_facts_records.dim_dealers AS SELECT * FROM dealers_clean\")"
   ]
  },
  {
   "cell_type": "code",
   "execution_count": 38,
   "metadata": {},
   "outputs": [
    {
     "data": {
      "text/plain": [
       "<duckdb.duckdb.DuckDBPyConnection at 0x24521e0a770>"
      ]
     },
     "execution_count": 38,
     "metadata": {},
     "output_type": "execute_result"
    }
   ],
   "source": [
    "con.execute(\"CREATE TABLE dim_facts_records.dim_models AS SELECT * FROM models_clean\")"
   ]
  },
  {
   "cell_type": "code",
   "execution_count": 39,
   "metadata": {},
   "outputs": [
    {
     "data": {
      "text/plain": [
       "<duckdb.duckdb.DuckDBPyConnection at 0x24521e0a770>"
      ]
     },
     "execution_count": 39,
     "metadata": {},
     "output_type": "execute_result"
    }
   ],
   "source": [
    "con.execute(\"CREATE TABLE dim_facts_records.car_sales_clean AS SELECT * FROM car_sales_clean\")"
   ]
  },
  {
   "cell_type": "code",
   "execution_count": 42,
   "metadata": {},
   "outputs": [
    {
     "data": {
      "text/plain": [
       "<duckdb.duckdb.DuckDBPyConnection at 0x24521e0a770>"
      ]
     },
     "execution_count": 42,
     "metadata": {},
     "output_type": "execute_result"
    }
   ],
   "source": [
    "con.execute(\n",
    "    \"\"\"\n",
    "    create table dim_facts_records.car_sales_records as\n",
    "    select\n",
    "        a.sale_id,\n",
    "        a.date,\n",
    "        extract(year from a.date) as date_year,\n",
    "        extract(month from a.date) as date_month,\n",
    "        strftime(a.date,'%b') as date_month_name,\n",
    "        extract(day from a.date) as date_day,\n",
    "        extract(dow from a.date) as date_dow,\n",
    "        strftime(a.date,'%a') as date_dow_name,\n",
    "        c.dealer_name,\n",
    "        c.country as dealer_country,\n",
    "        c.city as dealer_city,\n",
    "        b.model,\n",
    "        b.segment,\n",
    "        b.brand,\n",
    "        b.engine_size_l,\n",
    "        b.fuel_type,\n",
    "        b.unit_price_usd,\n",
    "        b.unit_profit_usd,\n",
    "        a.qty_sold,\n",
    "        (a.qty_sold*b.unit_price_usd)::numeric as total_price_usd,\n",
    "        (a.qty_sold*b.unit_profit_usd)::numeric as total_profit_usd\n",
    "    from dim_facts_records.car_sales_clean as a\n",
    "    left join dim_facts_records.dim_models as b on b.model_id = a.model_id\n",
    "    left join dim_facts_records.dim_dealers as c on c.dealer_id = a.dealer_id\n",
    "    order by a.sale_id asc\n",
    "    \"\"\"\n",
    ")"
   ]
  },
  {
   "cell_type": "code",
   "execution_count": 47,
   "metadata": {},
   "outputs": [
    {
     "name": "stdout",
     "output_type": "stream",
     "text": [
      "┌─────────┬─────────────────────┬───────────┬────────────┬─────────────────┬──────────┬──────────┬───────────────┬─────────────────────┬────────────────┬──────────────┬───────────┬─────────┬────────────┬───────────────┬───────────┬────────────────┬─────────────────┬──────────┬─────────────────┬──────────────────┐\n",
      "│ sale_id │        date         │ date_year │ date_month │ date_month_name │ date_day │ date_dow │ date_dow_name │     dealer_name     │ dealer_country │ dealer_city  │   model   │ segment │   brand    │ engine_size_l │ fuel_type │ unit_price_usd │ unit_profit_usd │ qty_sold │ total_price_usd │ total_profit_usd │\n",
      "│  int64  │    timestamp_ns     │   int64   │   int64    │     varchar     │  int64   │  int64   │    varchar    │       varchar       │    varchar     │   varchar    │  varchar  │ varchar │  varchar   │    double     │  varchar  │     double     │     double      │  int64   │  decimal(18,3)  │  decimal(18,3)   │\n",
      "├─────────┼─────────────────────┼───────────┼────────────┼─────────────────┼──────────┼──────────┼───────────────┼─────────────────────┼────────────────┼──────────────┼───────────┼─────────┼────────────┼───────────────┼───────────┼────────────────┼─────────────────┼──────────┼─────────────────┼──────────────────┤\n",
      "│       1 │ 2024-01-05 00:00:00 │      2024 │          1 │ Jan             │        5 │        5 │ Fri           │ Bangkok Cars        │ Thailand       │ Bangkok      │ Ranger    │ Pickup  │ Ford       │           2.0 │ Diesel    │        25000.0 │          2500.0 │        1 │       25000.000 │         2500.000 │\n",
      "│       2 │ 2024-01-08 00:00:00 │      2024 │          1 │ Jan             │        8 │        1 │ Mon           │ Prime Autos         │ Singapore      │ Singapore    │ CR-V      │ SUV     │ Honda      │           2.4 │ Gasoline  │        28000.0 │          2800.0 │        1 │       28000.000 │         2800.000 │\n",
      "│       3 │ 2024-02-12 00:00:00 │      2024 │          2 │ Feb             │       12 │        1 │ Mon           │ Bacolod Wheels      │ Philippines    │ Bacolod City │ Defender  │ SUV     │ Land Rover │           1.8 │ Gasoline  │        14000.0 │          1400.0 │        2 │       28000.000 │         2800.000 │\n",
      "│       4 │ 2024-02-22 00:00:00 │      2024 │          2 │ Feb             │       22 │        4 │ Thu           │ Iloilo Car Center   │ Philippines    │ Iloilo City  │ Forester  │ SUV     │ Subaru     │           1.8 │ Gasoline  │        20000.0 │          2000.0 │        1 │       20000.000 │         2000.000 │\n",
      "│       5 │ 2024-03-01 00:00:00 │      2024 │          3 │ Mar             │        1 │        5 │ Fri           │ Capital Cars        │ Philippines    │ Quezon City  │ Outlander │ SUV     │ Mitsubishi │           2.4 │ Gasoline  │        32000.0 │          3200.0 │        3 │       96000.000 │         9600.000 │\n",
      "│       6 │ 2024-03-08 00:00:00 │      2024 │          3 │ Mar             │        8 │        5 │ Fri           │ Metro Manila Motors │ Philippines    │ Manila       │ Mazda3    │ Sedan   │ Mazda      │           2.0 │ Gasoline  │        24000.0 │          2400.0 │        1 │       24000.000 │         2400.000 │\n",
      "│       7 │ 2024-03-09 00:00:00 │      2024 │          3 │ Mar             │        9 │        6 │ Sat           │ Metro Manila Motors │ Philippines    │ Manila       │ Ranger    │ Pickup  │ Ford       │           2.0 │ Diesel    │        25000.0 │          2500.0 │        2 │       50000.000 │         5000.000 │\n",
      "│       8 │ 2024-03-10 00:00:00 │      2024 │          3 │ Mar             │       10 │        0 │ Sun           │ AutoHub Cars        │ Malaysia       │ George Town  │ Defender  │ SUV     │ Land Rover │           1.8 │ Gasoline  │        14000.0 │          1400.0 │        1 │       14000.000 │         1400.000 │\n",
      "│       9 │ 2024-03-11 00:00:00 │      2024 │          3 │ Mar             │       11 │        1 │ Mon           │ Capital Cars        │ Philippines    │ Quezon City  │ CR-V      │ SUV     │ Honda      │           2.4 │ Gasoline  │        28000.0 │          2800.0 │        1 │       28000.000 │         2800.000 │\n",
      "│      10 │ 2024-03-12 00:00:00 │      2024 │          3 │ Mar             │       12 │        2 │ Tue           │ Bacolod Wheels      │ Philippines    │ Bacolod City │ Ranger    │ Pickup  │ Ford       │           2.0 │ Diesel    │        25000.0 │          2500.0 │        2 │       50000.000 │         5000.000 │\n",
      "├─────────┴─────────────────────┴───────────┴────────────┴─────────────────┴──────────┴──────────┴───────────────┴─────────────────────┴────────────────┴──────────────┴───────────┴─────────┴────────────┴───────────────┴───────────┴────────────────┴─────────────────┴──────────┴─────────────────┴──────────────────┤\n",
      "│ 10 rows                                                                                                                                                                                                                                                                                                     21 columns │\n",
      "└────────────────────────────────────────────────────────────────────────────────────────────────────────────────────────────────────────────────────────────────────────────────────────────────────────────────────────────────────────────────────────────────────────────────────────────────────────────────────────┘\n",
      "\n"
     ]
    }
   ],
   "source": [
    "con.sql(\n",
    "    \"\"\"\n",
    "    select *\n",
    "    from dim_facts_records.car_sales_records\n",
    "    limit 10\n",
    "    \n",
    "    \"\"\"\n",
    ").show()"
   ]
  }
 ],
 "metadata": {
  "kernelspec": {
   "display_name": "car_sales_analysis",
   "language": "python",
   "name": "python3"
  },
  "language_info": {
   "codemirror_mode": {
    "name": "ipython",
    "version": 3
   },
   "file_extension": ".py",
   "mimetype": "text/x-python",
   "name": "python",
   "nbconvert_exporter": "python",
   "pygments_lexer": "ipython3",
   "version": "3.12.7"
  }
 },
 "nbformat": 4,
 "nbformat_minor": 2
}
